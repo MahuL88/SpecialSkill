{
  "cells": [
    {
      "cell_type": "markdown",
      "metadata": {
        "id": "view-in-github",
        "colab_type": "text"
      },
      "source": [
        "<a href=\"https://colab.research.google.com/github/MahuL88/SpecialSkill/blob/main/Car_Tracking.ipynb\" target=\"_parent\"><img src=\"https://colab.research.google.com/assets/colab-badge.svg\" alt=\"Open In Colab\"/></a>"
      ]
    },
    {
      "cell_type": "markdown",
      "metadata": {
        "id": "0SzIxbCp2LOb"
      },
      "source": [
        "#Day 1"
      ]
    },
    {
      "cell_type": "markdown",
      "source": [
        "## Bagian 1"
      ],
      "metadata": {
        "id": "ODIgSgWGNZOY"
      }
    },
    {
      "cell_type": "markdown",
      "source": [
        "* Clone YOLOv5 dan install dependensi"
      ],
      "metadata": {
        "id": "ocRgt574-HA4"
      }
    },
    {
      "cell_type": "code",
      "execution_count": null,
      "metadata": {
        "collapsed": true,
        "id": "uNDqgjVd00eT"
      },
      "outputs": [],
      "source": [
        "# Melakukan perintah clone kode YOLOV5 dari github repo ultralytics ke collab melalui terimnal\n",
        "!git clone https://github.com/ultralytics/yolov5\n",
        "# Pindah direktori dari direktori/folder utama collab ke yolov5 dengan bantuan magic command\n",
        "%cd yolov5\n",
        "# Menginstall semua library/pustaka yang dibutuhkan oleh YOLOv5 di file requirement.txt melalui terminal.\n",
        "!pip install -r requirements.txt\n",
        "\n",
        "# Menginstall library deep sort untuk tracking(memberi ID) melalui terminal\n",
        "!pip install deep_sort_realtime"
      ]
    },
    {
      "cell_type": "markdown",
      "source": [
        "* Untuk contoh file videonya bisa diakses/didownload di sini : [teks link](https://drive.google.com/file/d/1_fvKmLqrQlRKEIqrdfixIRfcV5dkU-cT/view?usp=sharing)"
      ],
      "metadata": {
        "id": "GV3Betl6fFiu"
      }
    },
    {
      "cell_type": "code",
      "execution_count": null,
      "metadata": {
        "colab": {
          "base_uri": "https://localhost:8080/",
          "height": 73
        },
        "id": "pV82Uu_711KN",
        "outputId": "69cfd66a-e0ae-417e-e101-9e5c128ee651"
      },
      "outputs": [
        {
          "output_type": "display_data",
          "data": {
            "text/plain": [
              "<IPython.core.display.HTML object>"
            ],
            "text/html": [
              "\n",
              "     <input type=\"file\" id=\"files-0ef1d372-69d6-4528-9684-45a7dd6f0cb1\" name=\"files[]\" multiple disabled\n",
              "        style=\"border:none\" />\n",
              "     <output id=\"result-0ef1d372-69d6-4528-9684-45a7dd6f0cb1\">\n",
              "      Upload widget is only available when the cell has been executed in the\n",
              "      current browser session. Please rerun this cell to enable.\n",
              "      </output>\n",
              "      <script>// Copyright 2017 Google LLC\n",
              "//\n",
              "// Licensed under the Apache License, Version 2.0 (the \"License\");\n",
              "// you may not use this file except in compliance with the License.\n",
              "// You may obtain a copy of the License at\n",
              "//\n",
              "//      http://www.apache.org/licenses/LICENSE-2.0\n",
              "//\n",
              "// Unless required by applicable law or agreed to in writing, software\n",
              "// distributed under the License is distributed on an \"AS IS\" BASIS,\n",
              "// WITHOUT WARRANTIES OR CONDITIONS OF ANY KIND, either express or implied.\n",
              "// See the License for the specific language governing permissions and\n",
              "// limitations under the License.\n",
              "\n",
              "/**\n",
              " * @fileoverview Helpers for google.colab Python module.\n",
              " */\n",
              "(function(scope) {\n",
              "function span(text, styleAttributes = {}) {\n",
              "  const element = document.createElement('span');\n",
              "  element.textContent = text;\n",
              "  for (const key of Object.keys(styleAttributes)) {\n",
              "    element.style[key] = styleAttributes[key];\n",
              "  }\n",
              "  return element;\n",
              "}\n",
              "\n",
              "// Max number of bytes which will be uploaded at a time.\n",
              "const MAX_PAYLOAD_SIZE = 100 * 1024;\n",
              "\n",
              "function _uploadFiles(inputId, outputId) {\n",
              "  const steps = uploadFilesStep(inputId, outputId);\n",
              "  const outputElement = document.getElementById(outputId);\n",
              "  // Cache steps on the outputElement to make it available for the next call\n",
              "  // to uploadFilesContinue from Python.\n",
              "  outputElement.steps = steps;\n",
              "\n",
              "  return _uploadFilesContinue(outputId);\n",
              "}\n",
              "\n",
              "// This is roughly an async generator (not supported in the browser yet),\n",
              "// where there are multiple asynchronous steps and the Python side is going\n",
              "// to poll for completion of each step.\n",
              "// This uses a Promise to block the python side on completion of each step,\n",
              "// then passes the result of the previous step as the input to the next step.\n",
              "function _uploadFilesContinue(outputId) {\n",
              "  const outputElement = document.getElementById(outputId);\n",
              "  const steps = outputElement.steps;\n",
              "\n",
              "  const next = steps.next(outputElement.lastPromiseValue);\n",
              "  return Promise.resolve(next.value.promise).then((value) => {\n",
              "    // Cache the last promise value to make it available to the next\n",
              "    // step of the generator.\n",
              "    outputElement.lastPromiseValue = value;\n",
              "    return next.value.response;\n",
              "  });\n",
              "}\n",
              "\n",
              "/**\n",
              " * Generator function which is called between each async step of the upload\n",
              " * process.\n",
              " * @param {string} inputId Element ID of the input file picker element.\n",
              " * @param {string} outputId Element ID of the output display.\n",
              " * @return {!Iterable<!Object>} Iterable of next steps.\n",
              " */\n",
              "function* uploadFilesStep(inputId, outputId) {\n",
              "  const inputElement = document.getElementById(inputId);\n",
              "  inputElement.disabled = false;\n",
              "\n",
              "  const outputElement = document.getElementById(outputId);\n",
              "  outputElement.innerHTML = '';\n",
              "\n",
              "  const pickedPromise = new Promise((resolve) => {\n",
              "    inputElement.addEventListener('change', (e) => {\n",
              "      resolve(e.target.files);\n",
              "    });\n",
              "  });\n",
              "\n",
              "  const cancel = document.createElement('button');\n",
              "  inputElement.parentElement.appendChild(cancel);\n",
              "  cancel.textContent = 'Cancel upload';\n",
              "  const cancelPromise = new Promise((resolve) => {\n",
              "    cancel.onclick = () => {\n",
              "      resolve(null);\n",
              "    };\n",
              "  });\n",
              "\n",
              "  // Wait for the user to pick the files.\n",
              "  const files = yield {\n",
              "    promise: Promise.race([pickedPromise, cancelPromise]),\n",
              "    response: {\n",
              "      action: 'starting',\n",
              "    }\n",
              "  };\n",
              "\n",
              "  cancel.remove();\n",
              "\n",
              "  // Disable the input element since further picks are not allowed.\n",
              "  inputElement.disabled = true;\n",
              "\n",
              "  if (!files) {\n",
              "    return {\n",
              "      response: {\n",
              "        action: 'complete',\n",
              "      }\n",
              "    };\n",
              "  }\n",
              "\n",
              "  for (const file of files) {\n",
              "    const li = document.createElement('li');\n",
              "    li.append(span(file.name, {fontWeight: 'bold'}));\n",
              "    li.append(span(\n",
              "        `(${file.type || 'n/a'}) - ${file.size} bytes, ` +\n",
              "        `last modified: ${\n",
              "            file.lastModifiedDate ? file.lastModifiedDate.toLocaleDateString() :\n",
              "                                    'n/a'} - `));\n",
              "    const percent = span('0% done');\n",
              "    li.appendChild(percent);\n",
              "\n",
              "    outputElement.appendChild(li);\n",
              "\n",
              "    const fileDataPromise = new Promise((resolve) => {\n",
              "      const reader = new FileReader();\n",
              "      reader.onload = (e) => {\n",
              "        resolve(e.target.result);\n",
              "      };\n",
              "      reader.readAsArrayBuffer(file);\n",
              "    });\n",
              "    // Wait for the data to be ready.\n",
              "    let fileData = yield {\n",
              "      promise: fileDataPromise,\n",
              "      response: {\n",
              "        action: 'continue',\n",
              "      }\n",
              "    };\n",
              "\n",
              "    // Use a chunked sending to avoid message size limits. See b/62115660.\n",
              "    let position = 0;\n",
              "    do {\n",
              "      const length = Math.min(fileData.byteLength - position, MAX_PAYLOAD_SIZE);\n",
              "      const chunk = new Uint8Array(fileData, position, length);\n",
              "      position += length;\n",
              "\n",
              "      const base64 = btoa(String.fromCharCode.apply(null, chunk));\n",
              "      yield {\n",
              "        response: {\n",
              "          action: 'append',\n",
              "          file: file.name,\n",
              "          data: base64,\n",
              "        },\n",
              "      };\n",
              "\n",
              "      let percentDone = fileData.byteLength === 0 ?\n",
              "          100 :\n",
              "          Math.round((position / fileData.byteLength) * 100);\n",
              "      percent.textContent = `${percentDone}% done`;\n",
              "\n",
              "    } while (position < fileData.byteLength);\n",
              "  }\n",
              "\n",
              "  // All done.\n",
              "  yield {\n",
              "    response: {\n",
              "      action: 'complete',\n",
              "    }\n",
              "  };\n",
              "}\n",
              "\n",
              "scope.google = scope.google || {};\n",
              "scope.google.colab = scope.google.colab || {};\n",
              "scope.google.colab._files = {\n",
              "  _uploadFiles,\n",
              "  _uploadFilesContinue,\n",
              "};\n",
              "})(self);\n",
              "</script> "
            ]
          },
          "metadata": {}
        },
        {
          "output_type": "stream",
          "name": "stdout",
          "text": [
            "Saving car_video.mp4 to car_video.mp4\n"
          ]
        }
      ],
      "source": [
        "from google.colab import files # Impor modul files dari library collab.\n",
        "\n",
        "uploaded = files.upload() # Mendefinisikan variabel uploaded agar dapat mengunggah file"
      ]
    },
    {
      "cell_type": "markdown",
      "source": [
        "* Sebelumnya saya membandingkan model YOLOv5(s,m,l,x) untuk melihat mana yang akurat melakukan bounding box dan proses training yang tidak lama dari sebuah gambar. akhirnya, saya memilih model YOLOv5m"
      ],
      "metadata": {
        "id": "icj7JpQQC0JB"
      }
    },
    {
      "cell_type": "code",
      "execution_count": null,
      "metadata": {
        "id": "-bcnKa9q13I8"
      },
      "outputs": [],
      "source": [
        "# Impor torch dari framework PyTorch, impor modul deepsort, dan pustaka OpenCV(untuk mengolah model dan video)\n",
        "import torch\n",
        "import cv2\n",
        "from deep_sort_realtime.deepsort_tracker import DeepSort\n",
        "\n",
        "# Membuat variabel model dimana torch mendownload model versi \"m\" yang sudah dilatih sebelumnya (pretrained).\n",
        "model = torch.hub.load('ultralytics/yolov5', 'yolov5m', pretrained=True)\n",
        "# Mengecek apakah GPU aktif di Google Colab.\n",
        "# Untuk Mengaktifkannya, di fitur runtime, ubah jenis runtime dengan runtume GPU (akan mengembalikan bool True jika aktif)\n",
        "print(torch.cuda.is_available())"
      ]
    },
    {
      "cell_type": "markdown",
      "metadata": {
        "id": "7ylK3U-CtMHV"
      },
      "source": [
        "#Day 2"
      ]
    },
    {
      "cell_type": "code",
      "execution_count": null,
      "metadata": {
        "id": "OpOm9_Cr16LM"
      },
      "outputs": [],
      "source": [
        "# Inisialisasi Deep SORT tracker yg akan menyimpan objek yg hilang selama 30 frame\n",
        "tracker = DeepSort(max_age=30)\n",
        "\n",
        "# Variabel video_path yang akan menyimpan nama file video\n",
        "video_path = 'car_video.mp4'\n",
        "\n",
        "# membuka/membaca video tersebut yang akan memproses frame demi frame, lalu menyimpannya ke variabel cap\n",
        "cap = cv2.VideoCapture(video_path)\n",
        "\n",
        "# Variabel output_path utk simpan hasil file yang sudah di bounding box nantinya\n",
        "output_path = 'output.avi'\n",
        "\n",
        "# Variabel Four Character Code utk memilih format kompresi video outputnya dengan jenis kompresi XVID\n",
        "fourcc = cv2.VideoWriter_fourcc(*'XVID')\n",
        "\n",
        "# Mengambil/membaca lebarnya frame dengan satuan pixel bertipe integer\n",
        "width = int(cap.get(cv2.CAP_PROP_FRAME_WIDTH))\n",
        "# Mengambil/membaca Tingginya frame dengan satuan pixel bertipe integer\n",
        "height = int(cap.get(cv2.CAP_PROP_FRAME_HEIGHT))\n",
        "\n",
        "# Membuat objek VideoWriter untuk menulis frame ke dalam file video\n",
        "# Dengan parameter, nama file output, format video disimpan, frame per second, dan ukuran frame video output\n",
        "out = cv2.VideoWriter(output_path, fourcc, 20.0, (width, height))\n",
        "\n",
        "# Perulangan dengan kondisi selama video masih bisa dibuka, baca frame dan kembalikan status True\n",
        "# Jika status sudah False, artinya video sudah selesai dan loop berhenti\n",
        "while cap.isOpened():\n",
        "    ret, frame = cap.read()\n",
        "    if not ret:\n",
        "        break\n",
        "\n",
        "    # Model mendeteksi objek \" di dalam frame dan disimpan ke variabel results\n",
        "    results = model(frame)\n",
        "    # mengembalikan hasil deteksi dalam bentuk tabel(pandas df) yang memiliki kolom class dan nama\n",
        "    detections = results.pandas().xyxy[0]\n",
        "\n",
        "    # menyiapkan list kosong untuk menyimpan data yg akan ditracker\n",
        "    dets_for_sort = []\n",
        "\n",
        "    # Melakukan Bounding Box dan filter hanya untuk class saja\n",
        "    for _, row in detections.iterrows():  # baca hasil deteksi baris demi baris\n",
        "        if row['name'] == 'car':          # filter hanya utk class car\n",
        "\n",
        "            # Ambil koordinat kotak dari setiap baris yg sudah difilter\n",
        "            x1, y1, x2, y2 = map(int, [row['xmin'], row['ymin'], row['xmax'], row['ymax']])\n",
        "\n",
        "            # Menghitung lebar (w) dan tinggi (h) kotak mobil\n",
        "            w, h = x2 - x1, y2 - y1\n",
        "\n",
        "            # Menghitung tingkat keyakinan model mendeteksi mobil\n",
        "            conf = row['confidence']\n",
        "\n",
        "            # masukkan data ke list kosong sebelumnya dalam format [x, y, w, h], confidence, dan label\n",
        "            dets_for_sort.append(([x1, y1, x2 - x1, y2 - y1], conf, 'car'))\n",
        "\n",
        "    # Update tracker dengan mengirim hasil deteksi, diproses tracker, lalu tiap mobil diberikan ID unik\n",
        "    tracks = tracker.update_tracks(dets_for_sort, frame=frame)\n",
        "\n",
        "    # Perulangan untuk melihat mobil/objek yang ada di tracks\n",
        "    for track in tracks:\n",
        "        # Jika objek masih belum terkonfirmasi (track tidak valid), lewatkan\n",
        "        if not track.is_confirmed():\n",
        "            continue\n",
        "\n",
        "        # Mengambil ID unik untuk setiap mobil/objek.\n",
        "        track_id = track.track_id\n",
        "\n",
        "        # Membaca/mengambil koordinat kotak(bounding box) dalam format left, top, right, and bottom(ltrb)\n",
        "        ltrb = track.to_ltrb()\n",
        "\n",
        "        # Ubah semua elemen di ltrb jadi integer agar mudah dipakai OpenCV utk menggambar boxnya\n",
        "        x1, y1, x2, y2 = map(int, ltrb)\n",
        "\n",
        "        # Menggambar kotak biru(kode 255, 0, 0) di sekeliling class(mobil)\n",
        "        cv2.rectangle(frame, (x1, y1), (x2, y2), (255,0,0), 2)\n",
        "\n",
        "        # Menulis text di atas kotak untuk ID object/mobil\n",
        "        # dengan warna text hijau dan posisi text 10 piksel di atas kotak di sebelah kiri atas.\n",
        "        cv2.putText(frame, f'ID {track_id}', (x1, y1 - 10),\n",
        "                    cv2.FONT_HERSHEY_SIMPLEX, 0.6, (0,255,0), 2)\n",
        "\n",
        "    # simpan framenya(yg sudah di kotakin) ke variabel video_path\n",
        "    out.write(frame)\n",
        "\n",
        "# Menutup file video input\n",
        "cap.release()\n",
        "# Menutup file video output\n",
        "out.release()"
      ]
    },
    {
      "cell_type": "code",
      "execution_count": null,
      "metadata": {
        "id": "lIgRAkBw19cp",
        "colab": {
          "base_uri": "https://localhost:8080/",
          "height": 34
        },
        "outputId": "d518d346-c23e-4eba-f353-5da54c39b730"
      },
      "outputs": [
        {
          "output_type": "display_data",
          "data": {
            "text/plain": [
              "<IPython.core.display.Javascript object>"
            ],
            "application/javascript": [
              "\n",
              "    async function download(id, filename, size) {\n",
              "      if (!google.colab.kernel.accessAllowed) {\n",
              "        return;\n",
              "      }\n",
              "      const div = document.createElement('div');\n",
              "      const label = document.createElement('label');\n",
              "      label.textContent = `Downloading \"${filename}\": `;\n",
              "      div.appendChild(label);\n",
              "      const progress = document.createElement('progress');\n",
              "      progress.max = size;\n",
              "      div.appendChild(progress);\n",
              "      document.body.appendChild(div);\n",
              "\n",
              "      const buffers = [];\n",
              "      let downloaded = 0;\n",
              "\n",
              "      const channel = await google.colab.kernel.comms.open(id);\n",
              "      // Send a message to notify the kernel that we're ready.\n",
              "      channel.send({})\n",
              "\n",
              "      for await (const message of channel.messages) {\n",
              "        // Send a message to notify the kernel that we're ready.\n",
              "        channel.send({})\n",
              "        if (message.buffers) {\n",
              "          for (const buffer of message.buffers) {\n",
              "            buffers.push(buffer);\n",
              "            downloaded += buffer.byteLength;\n",
              "            progress.value = downloaded;\n",
              "          }\n",
              "        }\n",
              "      }\n",
              "      const blob = new Blob(buffers, {type: 'application/binary'});\n",
              "      const a = document.createElement('a');\n",
              "      a.href = window.URL.createObjectURL(blob);\n",
              "      a.download = filename;\n",
              "      div.appendChild(a);\n",
              "      a.click();\n",
              "      div.remove();\n",
              "    }\n",
              "  "
            ]
          },
          "metadata": {}
        },
        {
          "output_type": "display_data",
          "data": {
            "text/plain": [
              "<IPython.core.display.Javascript object>"
            ],
            "application/javascript": [
              "download(\"download_4128dac8-96e0-490f-90e9-9261afe651d9\", \"output.avi\", 125233268)"
            ]
          },
          "metadata": {}
        }
      ],
      "source": [
        "# Mengunduh file output hasil yang telah di bounding box ke perangkat lokal(komputer)\n",
        "files.download('/content/yolov5/output.avi')"
      ]
    },
    {
      "cell_type": "markdown",
      "source": [
        "## Ringkasan"
      ],
      "metadata": {
        "id": "NW3ZNDbo9Kj2"
      }
    },
    {
      "cell_type": "markdown",
      "source": [
        "Tracking mobil ini mendeteksi mobil menggunakan model YOLOv5m yang akan melihat dan memberi kotak pembatas (bounding box) pada setiap mobil di tiap frame video. lalu, hasilnya diteruskan ke Deep Sort untuk melacak dan memberikan ID unik untuk setiap object(dalam kasus ini mobil), sehingga mobil yang sama bisa dikenali secara konsisten sepanjang video secara real-time."
      ],
      "metadata": {
        "id": "3pmU_sHX9QXC"
      }
    }
  ],
  "metadata": {
    "colab": {
      "provenance": [],
      "gpuType": "T4",
      "include_colab_link": true
    },
    "kernelspec": {
      "display_name": "Python 3",
      "name": "python3"
    },
    "language_info": {
      "name": "python"
    },
    "accelerator": "GPU"
  },
  "nbformat": 4,
  "nbformat_minor": 0
}
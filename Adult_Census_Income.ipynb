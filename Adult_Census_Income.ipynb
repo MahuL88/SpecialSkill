{
  "cells": [
    {
      "cell_type": "markdown",
      "metadata": {
        "id": "view-in-github",
        "colab_type": "text"
      },
      "source": [
        "<a href=\"https://colab.research.google.com/github/MahuL88/SpecialSkill/blob/main/Adult_Census_Income.ipynb\" target=\"_parent\"><img src=\"https://colab.research.google.com/assets/colab-badge.svg\" alt=\"Open In Colab\"/></a>"
      ]
    },
    {
      "cell_type": "markdown",
      "metadata": {
        "id": "E5W85D9MX2AQ"
      },
      "source": [
        "Project kali ini adalah memprediksi apakah seseorang memiliki penghasilan lebih dari $50.000 per tahun berdasarkan berbagai fitur seperti usia, pendidikan, pekerjaan, status pernikahan, jam kerja mingguan, dan latar belakang demografis lainnya.\n",
        "\n",
        "Proyek ini saya kaitkan dengan SDGs nomor 8 (Decent Work and Economic Growth) karena dapat membantu mengidentifikasi pola-pola ketimpangan ekonomi dan membuka peluang untuk analisis lebih lanjut terhadap faktor-faktor yang mempengaruhi kesenjangan pendapatan di masyarakat.\n",
        "\n",
        "Saya menggunakan model supervised(XGBoost) dan unsupervised (K-Means Clustering dan PCA (Principal Component Analysis) untuk mereduksi dimensi dan memvisualisasikan distribusi serta struktur data secara lebih mudah dipahami) untuk dataset ini."
      ]
    },
    {
      "cell_type": "markdown",
      "metadata": {
        "id": "xKDyntU0ZVCn"
      },
      "source": [
        "Source : [Adult Census Income](https://www.kaggle.com/datasets/uciml/adult-census-income)"
      ]
    },
    {
      "cell_type": "markdown",
      "source": [
        "# *Unsupervised Learning*"
      ],
      "metadata": {
        "id": "Sh0RkbF-KM36"
      }
    },
    {
      "cell_type": "markdown",
      "metadata": {
        "id": "x4RapKndY1lj"
      },
      "source": [
        "## Load & Eksplorasi Data"
      ]
    },
    {
      "cell_type": "code",
      "execution_count": null,
      "metadata": {
        "id": "9PJZ-6mfD7QO"
      },
      "outputs": [],
      "source": [
        "# Impor library yang diperlukan\n",
        "import numpy as np\n",
        "import pandas as pd\n",
        "import matplotlib.pyplot as plt\n",
        "# Untuk Supervised\n",
        "from sklearn.model_selection import train_test_split\n",
        "from xgboost import XGBClassifier\n",
        "from sklearn.metrics import classification_report, accuracy_score, f1_score\n",
        "from imblearn.over_sampling import SMOTE\n",
        "from sklearn.model_selection import RandomizedSearchCV\n",
        "from sklearn.metrics import roc_auc_score, RocCurveDisplay\n",
        "\n",
        "# Untuk Unsupervised\n",
        "from sklearn.decomposition import PCA\n",
        "from sklearn.cluster import KMeans\n",
        "import matplotlib.pyplot as plt\n",
        "from sklearn.preprocessing import StandardScaler"
      ]
    },
    {
      "cell_type": "code",
      "execution_count": null,
      "metadata": {
        "id": "gYFoYiD3aBwW"
      },
      "outputs": [],
      "source": [
        "# Load data ke sebuah dataframe bernama Adult Census Income (ACI)\n",
        "aci = pd.read_csv('/content/adult.csv')"
      ]
    },
    {
      "cell_type": "code",
      "execution_count": null,
      "metadata": {
        "id": "3Zuf0i9xalfy",
        "colab": {
          "base_uri": "https://localhost:8080/"
        },
        "outputId": "37e0a2d4-3cdd-43ac-fe2b-4edcafdff58a"
      },
      "outputs": [
        {
          "output_type": "execute_result",
          "data": {
            "text/plain": [
              "(32561, 15)"
            ]
          },
          "metadata": {},
          "execution_count": 81
        }
      ],
      "source": [
        "# Melihat jumlah kolom dan baris(terdapat 15 kolom dan 32561 data)\n",
        "aci.shape"
      ]
    },
    {
      "cell_type": "code",
      "execution_count": null,
      "metadata": {
        "id": "5FaE7nm5azG6",
        "colab": {
          "base_uri": "https://localhost:8080/"
        },
        "outputId": "af1c208e-5e51-44d6-8dfc-0dbd3ecbcdfc"
      },
      "outputs": [
        {
          "output_type": "stream",
          "name": "stdout",
          "text": [
            "<class 'pandas.core.frame.DataFrame'>\n",
            "RangeIndex: 32561 entries, 0 to 32560\n",
            "Data columns (total 15 columns):\n",
            " #   Column          Non-Null Count  Dtype \n",
            "---  ------          --------------  ----- \n",
            " 0   age             32561 non-null  int64 \n",
            " 1   workclass       32561 non-null  object\n",
            " 2   fnlwgt          32561 non-null  int64 \n",
            " 3   education       32561 non-null  object\n",
            " 4   education.num   32561 non-null  int64 \n",
            " 5   marital.status  32561 non-null  object\n",
            " 6   occupation      32561 non-null  object\n",
            " 7   relationship    32561 non-null  object\n",
            " 8   race            32561 non-null  object\n",
            " 9   sex             32561 non-null  object\n",
            " 10  capital.gain    32561 non-null  int64 \n",
            " 11  capital.loss    32561 non-null  int64 \n",
            " 12  hours.per.week  32561 non-null  int64 \n",
            " 13  native.country  32561 non-null  object\n",
            " 14  income          32561 non-null  object\n",
            "dtypes: int64(6), object(9)\n",
            "memory usage: 3.7+ MB\n"
          ]
        }
      ],
      "source": [
        "#cek detail informasi kolom (tidak ada missing value)\n",
        "aci.info()"
      ]
    },
    {
      "cell_type": "code",
      "execution_count": null,
      "metadata": {
        "id": "CMTF1m4BbA1P",
        "colab": {
          "base_uri": "https://localhost:8080/",
          "height": 296
        },
        "outputId": "7ccf29f6-5c3a-4014-edb0-96007d7afac4"
      },
      "outputs": [
        {
          "output_type": "execute_result",
          "data": {
            "text/plain": [
              "   age workclass  fnlwgt     education  education.num marital.status  \\\n",
              "0   90         ?   77053       HS-grad              9        Widowed   \n",
              "1   82   Private  132870       HS-grad              9        Widowed   \n",
              "2   66         ?  186061  Some-college             10        Widowed   \n",
              "3   54   Private  140359       7th-8th              4       Divorced   \n",
              "4   41   Private  264663  Some-college             10      Separated   \n",
              "\n",
              "          occupation   relationship   race     sex  capital.gain  \\\n",
              "0                  ?  Not-in-family  White  Female             0   \n",
              "1    Exec-managerial  Not-in-family  White  Female             0   \n",
              "2                  ?      Unmarried  Black  Female             0   \n",
              "3  Machine-op-inspct      Unmarried  White  Female             0   \n",
              "4     Prof-specialty      Own-child  White  Female             0   \n",
              "\n",
              "   capital.loss  hours.per.week native.country income  \n",
              "0          4356              40  United-States  <=50K  \n",
              "1          4356              18  United-States  <=50K  \n",
              "2          4356              40  United-States  <=50K  \n",
              "3          3900              40  United-States  <=50K  \n",
              "4          3900              40  United-States  <=50K  "
            ],
            "text/html": [
              "\n",
              "  <div id=\"df-bbd92f93-ed77-4922-a349-d5e8ad89aa83\" class=\"colab-df-container\">\n",
              "    <div>\n",
              "<style scoped>\n",
              "    .dataframe tbody tr th:only-of-type {\n",
              "        vertical-align: middle;\n",
              "    }\n",
              "\n",
              "    .dataframe tbody tr th {\n",
              "        vertical-align: top;\n",
              "    }\n",
              "\n",
              "    .dataframe thead th {\n",
              "        text-align: right;\n",
              "    }\n",
              "</style>\n",
              "<table border=\"1\" class=\"dataframe\">\n",
              "  <thead>\n",
              "    <tr style=\"text-align: right;\">\n",
              "      <th></th>\n",
              "      <th>age</th>\n",
              "      <th>workclass</th>\n",
              "      <th>fnlwgt</th>\n",
              "      <th>education</th>\n",
              "      <th>education.num</th>\n",
              "      <th>marital.status</th>\n",
              "      <th>occupation</th>\n",
              "      <th>relationship</th>\n",
              "      <th>race</th>\n",
              "      <th>sex</th>\n",
              "      <th>capital.gain</th>\n",
              "      <th>capital.loss</th>\n",
              "      <th>hours.per.week</th>\n",
              "      <th>native.country</th>\n",
              "      <th>income</th>\n",
              "    </tr>\n",
              "  </thead>\n",
              "  <tbody>\n",
              "    <tr>\n",
              "      <th>0</th>\n",
              "      <td>90</td>\n",
              "      <td>?</td>\n",
              "      <td>77053</td>\n",
              "      <td>HS-grad</td>\n",
              "      <td>9</td>\n",
              "      <td>Widowed</td>\n",
              "      <td>?</td>\n",
              "      <td>Not-in-family</td>\n",
              "      <td>White</td>\n",
              "      <td>Female</td>\n",
              "      <td>0</td>\n",
              "      <td>4356</td>\n",
              "      <td>40</td>\n",
              "      <td>United-States</td>\n",
              "      <td>&lt;=50K</td>\n",
              "    </tr>\n",
              "    <tr>\n",
              "      <th>1</th>\n",
              "      <td>82</td>\n",
              "      <td>Private</td>\n",
              "      <td>132870</td>\n",
              "      <td>HS-grad</td>\n",
              "      <td>9</td>\n",
              "      <td>Widowed</td>\n",
              "      <td>Exec-managerial</td>\n",
              "      <td>Not-in-family</td>\n",
              "      <td>White</td>\n",
              "      <td>Female</td>\n",
              "      <td>0</td>\n",
              "      <td>4356</td>\n",
              "      <td>18</td>\n",
              "      <td>United-States</td>\n",
              "      <td>&lt;=50K</td>\n",
              "    </tr>\n",
              "    <tr>\n",
              "      <th>2</th>\n",
              "      <td>66</td>\n",
              "      <td>?</td>\n",
              "      <td>186061</td>\n",
              "      <td>Some-college</td>\n",
              "      <td>10</td>\n",
              "      <td>Widowed</td>\n",
              "      <td>?</td>\n",
              "      <td>Unmarried</td>\n",
              "      <td>Black</td>\n",
              "      <td>Female</td>\n",
              "      <td>0</td>\n",
              "      <td>4356</td>\n",
              "      <td>40</td>\n",
              "      <td>United-States</td>\n",
              "      <td>&lt;=50K</td>\n",
              "    </tr>\n",
              "    <tr>\n",
              "      <th>3</th>\n",
              "      <td>54</td>\n",
              "      <td>Private</td>\n",
              "      <td>140359</td>\n",
              "      <td>7th-8th</td>\n",
              "      <td>4</td>\n",
              "      <td>Divorced</td>\n",
              "      <td>Machine-op-inspct</td>\n",
              "      <td>Unmarried</td>\n",
              "      <td>White</td>\n",
              "      <td>Female</td>\n",
              "      <td>0</td>\n",
              "      <td>3900</td>\n",
              "      <td>40</td>\n",
              "      <td>United-States</td>\n",
              "      <td>&lt;=50K</td>\n",
              "    </tr>\n",
              "    <tr>\n",
              "      <th>4</th>\n",
              "      <td>41</td>\n",
              "      <td>Private</td>\n",
              "      <td>264663</td>\n",
              "      <td>Some-college</td>\n",
              "      <td>10</td>\n",
              "      <td>Separated</td>\n",
              "      <td>Prof-specialty</td>\n",
              "      <td>Own-child</td>\n",
              "      <td>White</td>\n",
              "      <td>Female</td>\n",
              "      <td>0</td>\n",
              "      <td>3900</td>\n",
              "      <td>40</td>\n",
              "      <td>United-States</td>\n",
              "      <td>&lt;=50K</td>\n",
              "    </tr>\n",
              "  </tbody>\n",
              "</table>\n",
              "</div>\n",
              "    <div class=\"colab-df-buttons\">\n",
              "\n",
              "  <div class=\"colab-df-container\">\n",
              "    <button class=\"colab-df-convert\" onclick=\"convertToInteractive('df-bbd92f93-ed77-4922-a349-d5e8ad89aa83')\"\n",
              "            title=\"Convert this dataframe to an interactive table.\"\n",
              "            style=\"display:none;\">\n",
              "\n",
              "  <svg xmlns=\"http://www.w3.org/2000/svg\" height=\"24px\" viewBox=\"0 -960 960 960\">\n",
              "    <path d=\"M120-120v-720h720v720H120Zm60-500h600v-160H180v160Zm220 220h160v-160H400v160Zm0 220h160v-160H400v160ZM180-400h160v-160H180v160Zm440 0h160v-160H620v160ZM180-180h160v-160H180v160Zm440 0h160v-160H620v160Z\"/>\n",
              "  </svg>\n",
              "    </button>\n",
              "\n",
              "  <style>\n",
              "    .colab-df-container {\n",
              "      display:flex;\n",
              "      gap: 12px;\n",
              "    }\n",
              "\n",
              "    .colab-df-convert {\n",
              "      background-color: #E8F0FE;\n",
              "      border: none;\n",
              "      border-radius: 50%;\n",
              "      cursor: pointer;\n",
              "      display: none;\n",
              "      fill: #1967D2;\n",
              "      height: 32px;\n",
              "      padding: 0 0 0 0;\n",
              "      width: 32px;\n",
              "    }\n",
              "\n",
              "    .colab-df-convert:hover {\n",
              "      background-color: #E2EBFA;\n",
              "      box-shadow: 0px 1px 2px rgba(60, 64, 67, 0.3), 0px 1px 3px 1px rgba(60, 64, 67, 0.15);\n",
              "      fill: #174EA6;\n",
              "    }\n",
              "\n",
              "    .colab-df-buttons div {\n",
              "      margin-bottom: 4px;\n",
              "    }\n",
              "\n",
              "    [theme=dark] .colab-df-convert {\n",
              "      background-color: #3B4455;\n",
              "      fill: #D2E3FC;\n",
              "    }\n",
              "\n",
              "    [theme=dark] .colab-df-convert:hover {\n",
              "      background-color: #434B5C;\n",
              "      box-shadow: 0px 1px 3px 1px rgba(0, 0, 0, 0.15);\n",
              "      filter: drop-shadow(0px 1px 2px rgba(0, 0, 0, 0.3));\n",
              "      fill: #FFFFFF;\n",
              "    }\n",
              "  </style>\n",
              "\n",
              "    <script>\n",
              "      const buttonEl =\n",
              "        document.querySelector('#df-bbd92f93-ed77-4922-a349-d5e8ad89aa83 button.colab-df-convert');\n",
              "      buttonEl.style.display =\n",
              "        google.colab.kernel.accessAllowed ? 'block' : 'none';\n",
              "\n",
              "      async function convertToInteractive(key) {\n",
              "        const element = document.querySelector('#df-bbd92f93-ed77-4922-a349-d5e8ad89aa83');\n",
              "        const dataTable =\n",
              "          await google.colab.kernel.invokeFunction('convertToInteractive',\n",
              "                                                    [key], {});\n",
              "        if (!dataTable) return;\n",
              "\n",
              "        const docLinkHtml = 'Like what you see? Visit the ' +\n",
              "          '<a target=\"_blank\" href=https://colab.research.google.com/notebooks/data_table.ipynb>data table notebook</a>'\n",
              "          + ' to learn more about interactive tables.';\n",
              "        element.innerHTML = '';\n",
              "        dataTable['output_type'] = 'display_data';\n",
              "        await google.colab.output.renderOutput(dataTable, element);\n",
              "        const docLink = document.createElement('div');\n",
              "        docLink.innerHTML = docLinkHtml;\n",
              "        element.appendChild(docLink);\n",
              "      }\n",
              "    </script>\n",
              "  </div>\n",
              "\n",
              "\n",
              "    <div id=\"df-3ede30be-deb5-44b5-b6d8-9edcdc09a2db\">\n",
              "      <button class=\"colab-df-quickchart\" onclick=\"quickchart('df-3ede30be-deb5-44b5-b6d8-9edcdc09a2db')\"\n",
              "                title=\"Suggest charts\"\n",
              "                style=\"display:none;\">\n",
              "\n",
              "<svg xmlns=\"http://www.w3.org/2000/svg\" height=\"24px\"viewBox=\"0 0 24 24\"\n",
              "     width=\"24px\">\n",
              "    <g>\n",
              "        <path d=\"M19 3H5c-1.1 0-2 .9-2 2v14c0 1.1.9 2 2 2h14c1.1 0 2-.9 2-2V5c0-1.1-.9-2-2-2zM9 17H7v-7h2v7zm4 0h-2V7h2v10zm4 0h-2v-4h2v4z\"/>\n",
              "    </g>\n",
              "</svg>\n",
              "      </button>\n",
              "\n",
              "<style>\n",
              "  .colab-df-quickchart {\n",
              "      --bg-color: #E8F0FE;\n",
              "      --fill-color: #1967D2;\n",
              "      --hover-bg-color: #E2EBFA;\n",
              "      --hover-fill-color: #174EA6;\n",
              "      --disabled-fill-color: #AAA;\n",
              "      --disabled-bg-color: #DDD;\n",
              "  }\n",
              "\n",
              "  [theme=dark] .colab-df-quickchart {\n",
              "      --bg-color: #3B4455;\n",
              "      --fill-color: #D2E3FC;\n",
              "      --hover-bg-color: #434B5C;\n",
              "      --hover-fill-color: #FFFFFF;\n",
              "      --disabled-bg-color: #3B4455;\n",
              "      --disabled-fill-color: #666;\n",
              "  }\n",
              "\n",
              "  .colab-df-quickchart {\n",
              "    background-color: var(--bg-color);\n",
              "    border: none;\n",
              "    border-radius: 50%;\n",
              "    cursor: pointer;\n",
              "    display: none;\n",
              "    fill: var(--fill-color);\n",
              "    height: 32px;\n",
              "    padding: 0;\n",
              "    width: 32px;\n",
              "  }\n",
              "\n",
              "  .colab-df-quickchart:hover {\n",
              "    background-color: var(--hover-bg-color);\n",
              "    box-shadow: 0 1px 2px rgba(60, 64, 67, 0.3), 0 1px 3px 1px rgba(60, 64, 67, 0.15);\n",
              "    fill: var(--button-hover-fill-color);\n",
              "  }\n",
              "\n",
              "  .colab-df-quickchart-complete:disabled,\n",
              "  .colab-df-quickchart-complete:disabled:hover {\n",
              "    background-color: var(--disabled-bg-color);\n",
              "    fill: var(--disabled-fill-color);\n",
              "    box-shadow: none;\n",
              "  }\n",
              "\n",
              "  .colab-df-spinner {\n",
              "    border: 2px solid var(--fill-color);\n",
              "    border-color: transparent;\n",
              "    border-bottom-color: var(--fill-color);\n",
              "    animation:\n",
              "      spin 1s steps(1) infinite;\n",
              "  }\n",
              "\n",
              "  @keyframes spin {\n",
              "    0% {\n",
              "      border-color: transparent;\n",
              "      border-bottom-color: var(--fill-color);\n",
              "      border-left-color: var(--fill-color);\n",
              "    }\n",
              "    20% {\n",
              "      border-color: transparent;\n",
              "      border-left-color: var(--fill-color);\n",
              "      border-top-color: var(--fill-color);\n",
              "    }\n",
              "    30% {\n",
              "      border-color: transparent;\n",
              "      border-left-color: var(--fill-color);\n",
              "      border-top-color: var(--fill-color);\n",
              "      border-right-color: var(--fill-color);\n",
              "    }\n",
              "    40% {\n",
              "      border-color: transparent;\n",
              "      border-right-color: var(--fill-color);\n",
              "      border-top-color: var(--fill-color);\n",
              "    }\n",
              "    60% {\n",
              "      border-color: transparent;\n",
              "      border-right-color: var(--fill-color);\n",
              "    }\n",
              "    80% {\n",
              "      border-color: transparent;\n",
              "      border-right-color: var(--fill-color);\n",
              "      border-bottom-color: var(--fill-color);\n",
              "    }\n",
              "    90% {\n",
              "      border-color: transparent;\n",
              "      border-bottom-color: var(--fill-color);\n",
              "    }\n",
              "  }\n",
              "</style>\n",
              "\n",
              "      <script>\n",
              "        async function quickchart(key) {\n",
              "          const quickchartButtonEl =\n",
              "            document.querySelector('#' + key + ' button');\n",
              "          quickchartButtonEl.disabled = true;  // To prevent multiple clicks.\n",
              "          quickchartButtonEl.classList.add('colab-df-spinner');\n",
              "          try {\n",
              "            const charts = await google.colab.kernel.invokeFunction(\n",
              "                'suggestCharts', [key], {});\n",
              "          } catch (error) {\n",
              "            console.error('Error during call to suggestCharts:', error);\n",
              "          }\n",
              "          quickchartButtonEl.classList.remove('colab-df-spinner');\n",
              "          quickchartButtonEl.classList.add('colab-df-quickchart-complete');\n",
              "        }\n",
              "        (() => {\n",
              "          let quickchartButtonEl =\n",
              "            document.querySelector('#df-3ede30be-deb5-44b5-b6d8-9edcdc09a2db button');\n",
              "          quickchartButtonEl.style.display =\n",
              "            google.colab.kernel.accessAllowed ? 'block' : 'none';\n",
              "        })();\n",
              "      </script>\n",
              "    </div>\n",
              "\n",
              "    </div>\n",
              "  </div>\n"
            ],
            "application/vnd.google.colaboratory.intrinsic+json": {
              "type": "dataframe",
              "variable_name": "aci",
              "summary": "{\n  \"name\": \"aci\",\n  \"rows\": 32561,\n  \"fields\": [\n    {\n      \"column\": \"age\",\n      \"properties\": {\n        \"dtype\": \"number\",\n        \"std\": 13,\n        \"min\": 17,\n        \"max\": 90,\n        \"num_unique_values\": 73,\n        \"samples\": [\n          41,\n          80,\n          61\n        ],\n        \"semantic_type\": \"\",\n        \"description\": \"\"\n      }\n    },\n    {\n      \"column\": \"workclass\",\n      \"properties\": {\n        \"dtype\": \"category\",\n        \"num_unique_values\": 9,\n        \"samples\": [\n          \"Without-pay\",\n          \"Private\",\n          \"Self-emp-inc\"\n        ],\n        \"semantic_type\": \"\",\n        \"description\": \"\"\n      }\n    },\n    {\n      \"column\": \"fnlwgt\",\n      \"properties\": {\n        \"dtype\": \"number\",\n        \"std\": 105549,\n        \"min\": 12285,\n        \"max\": 1484705,\n        \"num_unique_values\": 21648,\n        \"samples\": [\n          269687,\n          156542,\n          100295\n        ],\n        \"semantic_type\": \"\",\n        \"description\": \"\"\n      }\n    },\n    {\n      \"column\": \"education\",\n      \"properties\": {\n        \"dtype\": \"category\",\n        \"num_unique_values\": 16,\n        \"samples\": [\n          \"HS-grad\",\n          \"Some-college\",\n          \"Prof-school\"\n        ],\n        \"semantic_type\": \"\",\n        \"description\": \"\"\n      }\n    },\n    {\n      \"column\": \"education.num\",\n      \"properties\": {\n        \"dtype\": \"number\",\n        \"std\": 2,\n        \"min\": 1,\n        \"max\": 16,\n        \"num_unique_values\": 16,\n        \"samples\": [\n          9,\n          10,\n          15\n        ],\n        \"semantic_type\": \"\",\n        \"description\": \"\"\n      }\n    },\n    {\n      \"column\": \"marital.status\",\n      \"properties\": {\n        \"dtype\": \"category\",\n        \"num_unique_values\": 7,\n        \"samples\": [\n          \"Widowed\",\n          \"Divorced\",\n          \"Married-spouse-absent\"\n        ],\n        \"semantic_type\": \"\",\n        \"description\": \"\"\n      }\n    },\n    {\n      \"column\": \"occupation\",\n      \"properties\": {\n        \"dtype\": \"category\",\n        \"num_unique_values\": 15,\n        \"samples\": [\n          \"Sales\",\n          \"Tech-support\",\n          \"?\"\n        ],\n        \"semantic_type\": \"\",\n        \"description\": \"\"\n      }\n    },\n    {\n      \"column\": \"relationship\",\n      \"properties\": {\n        \"dtype\": \"category\",\n        \"num_unique_values\": 6,\n        \"samples\": [\n          \"Not-in-family\",\n          \"Unmarried\",\n          \"Wife\"\n        ],\n        \"semantic_type\": \"\",\n        \"description\": \"\"\n      }\n    },\n    {\n      \"column\": \"race\",\n      \"properties\": {\n        \"dtype\": \"category\",\n        \"num_unique_values\": 5,\n        \"samples\": [\n          \"Black\",\n          \"Amer-Indian-Eskimo\",\n          \"Asian-Pac-Islander\"\n        ],\n        \"semantic_type\": \"\",\n        \"description\": \"\"\n      }\n    },\n    {\n      \"column\": \"sex\",\n      \"properties\": {\n        \"dtype\": \"category\",\n        \"num_unique_values\": 2,\n        \"samples\": [\n          \"Male\",\n          \"Female\"\n        ],\n        \"semantic_type\": \"\",\n        \"description\": \"\"\n      }\n    },\n    {\n      \"column\": \"capital.gain\",\n      \"properties\": {\n        \"dtype\": \"number\",\n        \"std\": 7385,\n        \"min\": 0,\n        \"max\": 99999,\n        \"num_unique_values\": 119,\n        \"samples\": [\n          3887,\n          2329\n        ],\n        \"semantic_type\": \"\",\n        \"description\": \"\"\n      }\n    },\n    {\n      \"column\": \"capital.loss\",\n      \"properties\": {\n        \"dtype\": \"number\",\n        \"std\": 402,\n        \"min\": 0,\n        \"max\": 4356,\n        \"num_unique_values\": 92,\n        \"samples\": [\n          1980,\n          2258\n        ],\n        \"semantic_type\": \"\",\n        \"description\": \"\"\n      }\n    },\n    {\n      \"column\": \"hours.per.week\",\n      \"properties\": {\n        \"dtype\": \"number\",\n        \"std\": 12,\n        \"min\": 1,\n        \"max\": 99,\n        \"num_unique_values\": 94,\n        \"samples\": [\n          34,\n          80\n        ],\n        \"semantic_type\": \"\",\n        \"description\": \"\"\n      }\n    },\n    {\n      \"column\": \"native.country\",\n      \"properties\": {\n        \"dtype\": \"category\",\n        \"num_unique_values\": 42,\n        \"samples\": [\n          \"Peru\",\n          \"Puerto-Rico\"\n        ],\n        \"semantic_type\": \"\",\n        \"description\": \"\"\n      }\n    },\n    {\n      \"column\": \"income\",\n      \"properties\": {\n        \"dtype\": \"category\",\n        \"num_unique_values\": 2,\n        \"samples\": [\n          \">50K\",\n          \"<=50K\"\n        ],\n        \"semantic_type\": \"\",\n        \"description\": \"\"\n      }\n    }\n  ]\n}"
            }
          },
          "metadata": {},
          "execution_count": 83
        }
      ],
      "source": [
        "# Melihat table secara garis besar dan tipe data(sudah sesuai seperti sebelumnya, namun bisa diperhatikan terdapat tanda (?) pada beberapa kolom)\n",
        "aci.head()"
      ]
    },
    {
      "cell_type": "code",
      "source": [
        "# Mengecek kolom mana yang terdapat tanda \"?\", terlihat bahwa kolom workclass, occupation, dan native.country yang memiliki tanda \"?\"\n",
        "question_counts = aci.apply(lambda col: col.astype(str).str.count(r'\\?').sum())\n",
        "print(question_counts)"
      ],
      "metadata": {
        "id": "A9OzmwJPJUIV",
        "colab": {
          "base_uri": "https://localhost:8080/"
        },
        "outputId": "0c1a60a3-1712-4600-a4e9-e4a30fb1a882"
      },
      "execution_count": null,
      "outputs": [
        {
          "output_type": "stream",
          "name": "stdout",
          "text": [
            "age                  0\n",
            "workclass         1836\n",
            "fnlwgt               0\n",
            "education            0\n",
            "education.num        0\n",
            "marital.status       0\n",
            "occupation        1843\n",
            "relationship         0\n",
            "race                 0\n",
            "sex                  0\n",
            "capital.gain         0\n",
            "capital.loss         0\n",
            "hours.per.week       0\n",
            "native.country     583\n",
            "income               0\n",
            "dtype: int64\n"
          ]
        }
      ]
    },
    {
      "cell_type": "code",
      "execution_count": null,
      "metadata": {
        "id": "oTKnUlAQbglR",
        "colab": {
          "base_uri": "https://localhost:8080/",
          "height": 300
        },
        "outputId": "b308eb4e-47a3-45f5-a4f1-d07435776460"
      },
      "outputs": [
        {
          "output_type": "execute_result",
          "data": {
            "text/plain": [
              "                age        fnlwgt  education.num  capital.gain  capital.loss  \\\n",
              "count  32561.000000  3.256100e+04   32561.000000  32561.000000  32561.000000   \n",
              "mean      38.581647  1.897784e+05      10.080679   1077.648844     87.303830   \n",
              "std       13.640433  1.055500e+05       2.572720   7385.292085    402.960219   \n",
              "min       17.000000  1.228500e+04       1.000000      0.000000      0.000000   \n",
              "25%       28.000000  1.178270e+05       9.000000      0.000000      0.000000   \n",
              "50%       37.000000  1.783560e+05      10.000000      0.000000      0.000000   \n",
              "75%       48.000000  2.370510e+05      12.000000      0.000000      0.000000   \n",
              "max       90.000000  1.484705e+06      16.000000  99999.000000   4356.000000   \n",
              "\n",
              "       hours.per.week  \n",
              "count    32561.000000  \n",
              "mean        40.437456  \n",
              "std         12.347429  \n",
              "min          1.000000  \n",
              "25%         40.000000  \n",
              "50%         40.000000  \n",
              "75%         45.000000  \n",
              "max         99.000000  "
            ],
            "text/html": [
              "\n",
              "  <div id=\"df-62ff537a-0781-43b1-a907-df2995338e14\" class=\"colab-df-container\">\n",
              "    <div>\n",
              "<style scoped>\n",
              "    .dataframe tbody tr th:only-of-type {\n",
              "        vertical-align: middle;\n",
              "    }\n",
              "\n",
              "    .dataframe tbody tr th {\n",
              "        vertical-align: top;\n",
              "    }\n",
              "\n",
              "    .dataframe thead th {\n",
              "        text-align: right;\n",
              "    }\n",
              "</style>\n",
              "<table border=\"1\" class=\"dataframe\">\n",
              "  <thead>\n",
              "    <tr style=\"text-align: right;\">\n",
              "      <th></th>\n",
              "      <th>age</th>\n",
              "      <th>fnlwgt</th>\n",
              "      <th>education.num</th>\n",
              "      <th>capital.gain</th>\n",
              "      <th>capital.loss</th>\n",
              "      <th>hours.per.week</th>\n",
              "    </tr>\n",
              "  </thead>\n",
              "  <tbody>\n",
              "    <tr>\n",
              "      <th>count</th>\n",
              "      <td>32561.000000</td>\n",
              "      <td>3.256100e+04</td>\n",
              "      <td>32561.000000</td>\n",
              "      <td>32561.000000</td>\n",
              "      <td>32561.000000</td>\n",
              "      <td>32561.000000</td>\n",
              "    </tr>\n",
              "    <tr>\n",
              "      <th>mean</th>\n",
              "      <td>38.581647</td>\n",
              "      <td>1.897784e+05</td>\n",
              "      <td>10.080679</td>\n",
              "      <td>1077.648844</td>\n",
              "      <td>87.303830</td>\n",
              "      <td>40.437456</td>\n",
              "    </tr>\n",
              "    <tr>\n",
              "      <th>std</th>\n",
              "      <td>13.640433</td>\n",
              "      <td>1.055500e+05</td>\n",
              "      <td>2.572720</td>\n",
              "      <td>7385.292085</td>\n",
              "      <td>402.960219</td>\n",
              "      <td>12.347429</td>\n",
              "    </tr>\n",
              "    <tr>\n",
              "      <th>min</th>\n",
              "      <td>17.000000</td>\n",
              "      <td>1.228500e+04</td>\n",
              "      <td>1.000000</td>\n",
              "      <td>0.000000</td>\n",
              "      <td>0.000000</td>\n",
              "      <td>1.000000</td>\n",
              "    </tr>\n",
              "    <tr>\n",
              "      <th>25%</th>\n",
              "      <td>28.000000</td>\n",
              "      <td>1.178270e+05</td>\n",
              "      <td>9.000000</td>\n",
              "      <td>0.000000</td>\n",
              "      <td>0.000000</td>\n",
              "      <td>40.000000</td>\n",
              "    </tr>\n",
              "    <tr>\n",
              "      <th>50%</th>\n",
              "      <td>37.000000</td>\n",
              "      <td>1.783560e+05</td>\n",
              "      <td>10.000000</td>\n",
              "      <td>0.000000</td>\n",
              "      <td>0.000000</td>\n",
              "      <td>40.000000</td>\n",
              "    </tr>\n",
              "    <tr>\n",
              "      <th>75%</th>\n",
              "      <td>48.000000</td>\n",
              "      <td>2.370510e+05</td>\n",
              "      <td>12.000000</td>\n",
              "      <td>0.000000</td>\n",
              "      <td>0.000000</td>\n",
              "      <td>45.000000</td>\n",
              "    </tr>\n",
              "    <tr>\n",
              "      <th>max</th>\n",
              "      <td>90.000000</td>\n",
              "      <td>1.484705e+06</td>\n",
              "      <td>16.000000</td>\n",
              "      <td>99999.000000</td>\n",
              "      <td>4356.000000</td>\n",
              "      <td>99.000000</td>\n",
              "    </tr>\n",
              "  </tbody>\n",
              "</table>\n",
              "</div>\n",
              "    <div class=\"colab-df-buttons\">\n",
              "\n",
              "  <div class=\"colab-df-container\">\n",
              "    <button class=\"colab-df-convert\" onclick=\"convertToInteractive('df-62ff537a-0781-43b1-a907-df2995338e14')\"\n",
              "            title=\"Convert this dataframe to an interactive table.\"\n",
              "            style=\"display:none;\">\n",
              "\n",
              "  <svg xmlns=\"http://www.w3.org/2000/svg\" height=\"24px\" viewBox=\"0 -960 960 960\">\n",
              "    <path d=\"M120-120v-720h720v720H120Zm60-500h600v-160H180v160Zm220 220h160v-160H400v160Zm0 220h160v-160H400v160ZM180-400h160v-160H180v160Zm440 0h160v-160H620v160ZM180-180h160v-160H180v160Zm440 0h160v-160H620v160Z\"/>\n",
              "  </svg>\n",
              "    </button>\n",
              "\n",
              "  <style>\n",
              "    .colab-df-container {\n",
              "      display:flex;\n",
              "      gap: 12px;\n",
              "    }\n",
              "\n",
              "    .colab-df-convert {\n",
              "      background-color: #E8F0FE;\n",
              "      border: none;\n",
              "      border-radius: 50%;\n",
              "      cursor: pointer;\n",
              "      display: none;\n",
              "      fill: #1967D2;\n",
              "      height: 32px;\n",
              "      padding: 0 0 0 0;\n",
              "      width: 32px;\n",
              "    }\n",
              "\n",
              "    .colab-df-convert:hover {\n",
              "      background-color: #E2EBFA;\n",
              "      box-shadow: 0px 1px 2px rgba(60, 64, 67, 0.3), 0px 1px 3px 1px rgba(60, 64, 67, 0.15);\n",
              "      fill: #174EA6;\n",
              "    }\n",
              "\n",
              "    .colab-df-buttons div {\n",
              "      margin-bottom: 4px;\n",
              "    }\n",
              "\n",
              "    [theme=dark] .colab-df-convert {\n",
              "      background-color: #3B4455;\n",
              "      fill: #D2E3FC;\n",
              "    }\n",
              "\n",
              "    [theme=dark] .colab-df-convert:hover {\n",
              "      background-color: #434B5C;\n",
              "      box-shadow: 0px 1px 3px 1px rgba(0, 0, 0, 0.15);\n",
              "      filter: drop-shadow(0px 1px 2px rgba(0, 0, 0, 0.3));\n",
              "      fill: #FFFFFF;\n",
              "    }\n",
              "  </style>\n",
              "\n",
              "    <script>\n",
              "      const buttonEl =\n",
              "        document.querySelector('#df-62ff537a-0781-43b1-a907-df2995338e14 button.colab-df-convert');\n",
              "      buttonEl.style.display =\n",
              "        google.colab.kernel.accessAllowed ? 'block' : 'none';\n",
              "\n",
              "      async function convertToInteractive(key) {\n",
              "        const element = document.querySelector('#df-62ff537a-0781-43b1-a907-df2995338e14');\n",
              "        const dataTable =\n",
              "          await google.colab.kernel.invokeFunction('convertToInteractive',\n",
              "                                                    [key], {});\n",
              "        if (!dataTable) return;\n",
              "\n",
              "        const docLinkHtml = 'Like what you see? Visit the ' +\n",
              "          '<a target=\"_blank\" href=https://colab.research.google.com/notebooks/data_table.ipynb>data table notebook</a>'\n",
              "          + ' to learn more about interactive tables.';\n",
              "        element.innerHTML = '';\n",
              "        dataTable['output_type'] = 'display_data';\n",
              "        await google.colab.output.renderOutput(dataTable, element);\n",
              "        const docLink = document.createElement('div');\n",
              "        docLink.innerHTML = docLinkHtml;\n",
              "        element.appendChild(docLink);\n",
              "      }\n",
              "    </script>\n",
              "  </div>\n",
              "\n",
              "\n",
              "    <div id=\"df-0677eec3-7579-41e8-b8df-6ed9cb6123b3\">\n",
              "      <button class=\"colab-df-quickchart\" onclick=\"quickchart('df-0677eec3-7579-41e8-b8df-6ed9cb6123b3')\"\n",
              "                title=\"Suggest charts\"\n",
              "                style=\"display:none;\">\n",
              "\n",
              "<svg xmlns=\"http://www.w3.org/2000/svg\" height=\"24px\"viewBox=\"0 0 24 24\"\n",
              "     width=\"24px\">\n",
              "    <g>\n",
              "        <path d=\"M19 3H5c-1.1 0-2 .9-2 2v14c0 1.1.9 2 2 2h14c1.1 0 2-.9 2-2V5c0-1.1-.9-2-2-2zM9 17H7v-7h2v7zm4 0h-2V7h2v10zm4 0h-2v-4h2v4z\"/>\n",
              "    </g>\n",
              "</svg>\n",
              "      </button>\n",
              "\n",
              "<style>\n",
              "  .colab-df-quickchart {\n",
              "      --bg-color: #E8F0FE;\n",
              "      --fill-color: #1967D2;\n",
              "      --hover-bg-color: #E2EBFA;\n",
              "      --hover-fill-color: #174EA6;\n",
              "      --disabled-fill-color: #AAA;\n",
              "      --disabled-bg-color: #DDD;\n",
              "  }\n",
              "\n",
              "  [theme=dark] .colab-df-quickchart {\n",
              "      --bg-color: #3B4455;\n",
              "      --fill-color: #D2E3FC;\n",
              "      --hover-bg-color: #434B5C;\n",
              "      --hover-fill-color: #FFFFFF;\n",
              "      --disabled-bg-color: #3B4455;\n",
              "      --disabled-fill-color: #666;\n",
              "  }\n",
              "\n",
              "  .colab-df-quickchart {\n",
              "    background-color: var(--bg-color);\n",
              "    border: none;\n",
              "    border-radius: 50%;\n",
              "    cursor: pointer;\n",
              "    display: none;\n",
              "    fill: var(--fill-color);\n",
              "    height: 32px;\n",
              "    padding: 0;\n",
              "    width: 32px;\n",
              "  }\n",
              "\n",
              "  .colab-df-quickchart:hover {\n",
              "    background-color: var(--hover-bg-color);\n",
              "    box-shadow: 0 1px 2px rgba(60, 64, 67, 0.3), 0 1px 3px 1px rgba(60, 64, 67, 0.15);\n",
              "    fill: var(--button-hover-fill-color);\n",
              "  }\n",
              "\n",
              "  .colab-df-quickchart-complete:disabled,\n",
              "  .colab-df-quickchart-complete:disabled:hover {\n",
              "    background-color: var(--disabled-bg-color);\n",
              "    fill: var(--disabled-fill-color);\n",
              "    box-shadow: none;\n",
              "  }\n",
              "\n",
              "  .colab-df-spinner {\n",
              "    border: 2px solid var(--fill-color);\n",
              "    border-color: transparent;\n",
              "    border-bottom-color: var(--fill-color);\n",
              "    animation:\n",
              "      spin 1s steps(1) infinite;\n",
              "  }\n",
              "\n",
              "  @keyframes spin {\n",
              "    0% {\n",
              "      border-color: transparent;\n",
              "      border-bottom-color: var(--fill-color);\n",
              "      border-left-color: var(--fill-color);\n",
              "    }\n",
              "    20% {\n",
              "      border-color: transparent;\n",
              "      border-left-color: var(--fill-color);\n",
              "      border-top-color: var(--fill-color);\n",
              "    }\n",
              "    30% {\n",
              "      border-color: transparent;\n",
              "      border-left-color: var(--fill-color);\n",
              "      border-top-color: var(--fill-color);\n",
              "      border-right-color: var(--fill-color);\n",
              "    }\n",
              "    40% {\n",
              "      border-color: transparent;\n",
              "      border-right-color: var(--fill-color);\n",
              "      border-top-color: var(--fill-color);\n",
              "    }\n",
              "    60% {\n",
              "      border-color: transparent;\n",
              "      border-right-color: var(--fill-color);\n",
              "    }\n",
              "    80% {\n",
              "      border-color: transparent;\n",
              "      border-right-color: var(--fill-color);\n",
              "      border-bottom-color: var(--fill-color);\n",
              "    }\n",
              "    90% {\n",
              "      border-color: transparent;\n",
              "      border-bottom-color: var(--fill-color);\n",
              "    }\n",
              "  }\n",
              "</style>\n",
              "\n",
              "      <script>\n",
              "        async function quickchart(key) {\n",
              "          const quickchartButtonEl =\n",
              "            document.querySelector('#' + key + ' button');\n",
              "          quickchartButtonEl.disabled = true;  // To prevent multiple clicks.\n",
              "          quickchartButtonEl.classList.add('colab-df-spinner');\n",
              "          try {\n",
              "            const charts = await google.colab.kernel.invokeFunction(\n",
              "                'suggestCharts', [key], {});\n",
              "          } catch (error) {\n",
              "            console.error('Error during call to suggestCharts:', error);\n",
              "          }\n",
              "          quickchartButtonEl.classList.remove('colab-df-spinner');\n",
              "          quickchartButtonEl.classList.add('colab-df-quickchart-complete');\n",
              "        }\n",
              "        (() => {\n",
              "          let quickchartButtonEl =\n",
              "            document.querySelector('#df-0677eec3-7579-41e8-b8df-6ed9cb6123b3 button');\n",
              "          quickchartButtonEl.style.display =\n",
              "            google.colab.kernel.accessAllowed ? 'block' : 'none';\n",
              "        })();\n",
              "      </script>\n",
              "    </div>\n",
              "\n",
              "    </div>\n",
              "  </div>\n"
            ],
            "application/vnd.google.colaboratory.intrinsic+json": {
              "type": "dataframe",
              "summary": "{\n  \"name\": \"aci\",\n  \"rows\": 8,\n  \"fields\": [\n    {\n      \"column\": \"age\",\n      \"properties\": {\n        \"dtype\": \"number\",\n        \"std\": 11498.327099385335,\n        \"min\": 13.640432553581118,\n        \"max\": 32561.0,\n        \"num_unique_values\": 8,\n        \"samples\": [\n          38.58164675532078,\n          37.0,\n          32561.0\n        ],\n        \"semantic_type\": \"\",\n        \"description\": \"\"\n      }\n    },\n    {\n      \"column\": \"fnlwgt\",\n      \"properties\": {\n        \"dtype\": \"number\",\n        \"std\": 486902.25279056706,\n        \"min\": 12285.0,\n        \"max\": 1484705.0,\n        \"num_unique_values\": 8,\n        \"samples\": [\n          189778.36651208502,\n          178356.0,\n          32561.0\n        ],\n        \"semantic_type\": \"\",\n        \"description\": \"\"\n      }\n    },\n    {\n      \"column\": \"education.num\",\n      \"properties\": {\n        \"dtype\": \"number\",\n        \"std\": 11508.989513934259,\n        \"min\": 1.0,\n        \"max\": 32561.0,\n        \"num_unique_values\": 8,\n        \"samples\": [\n          10.0806793403151,\n          10.0,\n          32561.0\n        ],\n        \"semantic_type\": \"\",\n        \"description\": \"\"\n      }\n    },\n    {\n      \"column\": \"capital.gain\",\n      \"properties\": {\n        \"dtype\": \"number\",\n        \"std\": 35111.63595222633,\n        \"min\": 0.0,\n        \"max\": 99999.0,\n        \"num_unique_values\": 5,\n        \"samples\": [\n          1077.6488437087312,\n          99999.0,\n          7385.292084836109\n        ],\n        \"semantic_type\": \"\",\n        \"description\": \"\"\n      }\n    },\n    {\n      \"column\": \"capital.loss\",\n      \"properties\": {\n        \"dtype\": \"number\",\n        \"std\": 11366.935322921136,\n        \"min\": 0.0,\n        \"max\": 32561.0,\n        \"num_unique_values\": 5,\n        \"samples\": [\n          87.303829734959,\n          4356.0,\n          402.9602186495174\n        ],\n        \"semantic_type\": \"\",\n        \"description\": \"\"\n      }\n    },\n    {\n      \"column\": \"hours.per.week\",\n      \"properties\": {\n        \"dtype\": \"number\",\n        \"std\": 11498.057671750135,\n        \"min\": 1.0,\n        \"max\": 32561.0,\n        \"num_unique_values\": 7,\n        \"samples\": [\n          32561.0,\n          40.437455852092995,\n          45.0\n        ],\n        \"semantic_type\": \"\",\n        \"description\": \"\"\n      }\n    }\n  ]\n}"
            }
          },
          "metadata": {},
          "execution_count": 85
        }
      ],
      "source": [
        "# Analisis Statistik dasar (terlihat tidak ada nilai outlier)\n",
        "aci.describe()"
      ]
    },
    {
      "cell_type": "code",
      "execution_count": null,
      "metadata": {
        "id": "15cVT4Vkc5Uh",
        "colab": {
          "base_uri": "https://localhost:8080/"
        },
        "outputId": "6ac45734-3eba-415e-98cc-ee93aef2990c"
      },
      "outputs": [
        {
          "output_type": "execute_result",
          "data": {
            "text/plain": [
              "np.int64(24)"
            ]
          },
          "metadata": {},
          "execution_count": 86
        }
      ],
      "source": [
        "#Cek banyak baris yang terduplikat(terlihat ada 24 data duplikat)\n",
        "aci.duplicated().sum()"
      ]
    },
    {
      "cell_type": "markdown",
      "source": [
        "### Kesimpulan"
      ],
      "metadata": {
        "id": "HjeMkk2jWjS9"
      }
    },
    {
      "cell_type": "markdown",
      "source": [
        "Dari hasil eksplorasi ini, ditemukan data yang duplikat sebanyak 24 data, tidak ada missing value, namun terdapat tanda (?) pada beberapa kolom. karena tidak ada kejelasan terkait hal ini serta hanya berjumlah 1K saja dan jumlah seluruh data berjumlah 30K, saya akan menghapus kolom yang memiliki tanda (?). untuk  tipe datanya sudah sesuai format, dan untuk kolom education akan dihapus karena sudah di encoding pada kolom education.num serta kolom fnlwgt dan race yang tidak terlalu penting dan pengaruh terhadap model"
      ],
      "metadata": {
        "id": "kFYRwRSGWkck"
      }
    },
    {
      "cell_type": "markdown",
      "metadata": {
        "id": "8O_EDOGnY3PO"
      },
      "source": [
        "## Preprocessing"
      ]
    },
    {
      "cell_type": "code",
      "source": [
        "# Hapus data duplikat dan indexnya akan direset\n",
        "aci = aci.drop_duplicates().reset_index(drop = True)"
      ],
      "metadata": {
        "id": "Zmbi3-imXt6A"
      },
      "execution_count": null,
      "outputs": []
    },
    {
      "cell_type": "code",
      "source": [
        "# Menghapus baris yang mengandung (?)\n",
        "kategori_hapus = '?'\n",
        "\n",
        "# Kolom yang dicek\n",
        "kolom_cek = ['workclass', 'occupation', 'native.country']\n",
        "\n",
        "# Hapus baris tersebut\n",
        "aci =aci[~aci[kolom_cek].isin([kategori_hapus]).any(axis=1)]"
      ],
      "metadata": {
        "id": "c-HZoYxMNQsW"
      },
      "execution_count": null,
      "outputs": []
    },
    {
      "cell_type": "code",
      "source": [
        "# Melihat kembali jumlah kolom dan baris(sekarang menjadi 15 kolom dan 30139 data)\n",
        "aci.shape"
      ],
      "metadata": {
        "id": "QQS_HXbfYfTe",
        "colab": {
          "base_uri": "https://localhost:8080/"
        },
        "outputId": "3188306a-8d29-4784-e7fe-7184bf128115"
      },
      "execution_count": null,
      "outputs": [
        {
          "output_type": "execute_result",
          "data": {
            "text/plain": [
              "(30139, 15)"
            ]
          },
          "metadata": {},
          "execution_count": 89
        }
      ]
    },
    {
      "cell_type": "code",
      "source": [
        "# Encode target variable 'income' menjadi biner:\n",
        "# Jika income >50K diberi label 1, jika <=50K diberi label 0\n",
        "aci['income'] = aci['income'].apply(lambda x: 1 if x == '>50K' else 0)"
      ],
      "metadata": {
        "id": "K3ETbB-nOSaH"
      },
      "execution_count": null,
      "outputs": []
    },
    {
      "cell_type": "markdown",
      "source": [
        "### Feature Engineering"
      ],
      "metadata": {
        "id": "9HMhRx1wtER1"
      }
    },
    {
      "cell_type": "markdown",
      "source": [
        "Sebelum melakukan One-hot encoding, dilakukan feature engineering karena one-hot encoding ini akan menambahkan kolom baru dari setiap kategori, sehingga akan menyebabkan *Dimensionality Curse* yang mengakibatkan model jadi lambat dan rawan *overfitting*, sehingga :"
      ],
      "metadata": {
        "id": "jPdSASj-tK4A"
      }
    },
    {
      "cell_type": "code",
      "source": [
        "# Menghapus kolom yang tidak penting untuk prediksi (fnlwgt, race, education)\n",
        "aci = aci.drop(['fnlwgt', 'race', 'education'], axis=1)"
      ],
      "metadata": {
        "id": "bV4l4FHiYGkl"
      },
      "execution_count": null,
      "outputs": []
    },
    {
      "cell_type": "code",
      "source": [
        "# Menggabungkan Kategori Langka/jarang muncul menjadi “Other” pada setiap kolom bertipe kategorikal\n",
        "\n",
        "# menetukan threshold frekuensi\n",
        "threshold = 0.01 # jika  kategori yang muncul kurang dari 1% dari total data akan dianggap jarang/other\n",
        "\n",
        "# Cari kolom kategorikal\n",
        "cat_cols = aci.select_dtypes(include=['object']).columns\n",
        "\n",
        "# perulangan untuk memproses kolom satu per satu\n",
        "for col in cat_cols:\n",
        "    freq = aci[col].value_counts(normalize=True) # hitung brp % setiap kategori muncul\n",
        "    major_categories = freq[freq >= threshold].index # simpan kategori yg sering muncul\n",
        "    # Buat kolom baru dengan nama col + '_mod'\n",
        "    aci[col + '_mod'] = aci[col].apply(lambda x: x if x in major_categories else 'Other') # dalam kolom baru, jika kategori sering muncul namanya akan tetap dan sebaliknya akan other\n",
        "\n",
        "# Hapus kolom asli dari tiap kolom yang berkategorikal\n",
        "aci.drop(columns=cat_cols, inplace=True)\n",
        "\n",
        "# temukan semua kolom _mod untuk one-hot encoding\n",
        "mod_cols = [col for col in aci.columns if col.endswith('_mod')]\n",
        "\n",
        "# lalu, Ubah fitur kategorikal menjadi format biner menggunakan one-hot encoding\n",
        "aci = pd.get_dummies(aci, columns=mod_cols)"
      ],
      "metadata": {
        "id": "qszWdlShtZTx"
      },
      "execution_count": null,
      "outputs": []
    },
    {
      "cell_type": "code",
      "source": [
        "'''aci['edu_hours'] = aci['education.num'] * aci['hours.per.week']\n",
        "aci['age_bin'] = pd.cut(aci['age'], bins=[16, 25, 40, 60, 90], labels=['muda', 'dewasa', 'matang', 'senior'])\n",
        "aci = pd.get_dummies(aci, columns=['age_bin'], drop_first=True)'''"
      ],
      "metadata": {
        "id": "ru2UJ8LXOC5I",
        "colab": {
          "base_uri": "https://localhost:8080/",
          "height": 53
        },
        "outputId": "e64d19e5-761f-44a9-a59e-b8ff212af65c"
      },
      "execution_count": null,
      "outputs": [
        {
          "output_type": "execute_result",
          "data": {
            "text/plain": [
              "\"aci['edu_hours'] = aci['education.num'] * aci['hours.per.week']\\naci['age_bin'] = pd.cut(aci['age'], bins=[16, 25, 40, 60, 90], labels=['muda', 'dewasa', 'matang', 'senior'])\\naci = pd.get_dummies(aci, columns=['age_bin'], drop_first=True)\""
            ],
            "application/vnd.google.colaboratory.intrinsic+json": {
              "type": "string"
            }
          },
          "metadata": {},
          "execution_count": 93
        }
      ]
    },
    {
      "cell_type": "code",
      "source": [
        "aci.head()"
      ],
      "metadata": {
        "id": "5LXKDM0kg8_G",
        "colab": {
          "base_uri": "https://localhost:8080/",
          "height": 273
        },
        "outputId": "76d6d42b-71da-40e6-f23b-aa529b0c4f46"
      },
      "execution_count": null,
      "outputs": [
        {
          "output_type": "execute_result",
          "data": {
            "text/plain": [
              "   age  education.num  capital.gain  capital.loss  hours.per.week  income  \\\n",
              "1   82              9             0          4356              18       0   \n",
              "3   54              4             0          3900              40       0   \n",
              "4   41             10             0          3900              40       0   \n",
              "5   34              9             0          3770              45       0   \n",
              "6   38              6             0          3770              40       0   \n",
              "\n",
              "   workclass_mod_Federal-gov  workclass_mod_Local-gov  workclass_mod_Other  \\\n",
              "1                      False                    False                False   \n",
              "3                      False                    False                False   \n",
              "4                      False                    False                False   \n",
              "5                      False                    False                False   \n",
              "6                      False                    False                False   \n",
              "\n",
              "   workclass_mod_Private  ...  relationship_mod_Not-in-family  \\\n",
              "1                   True  ...                            True   \n",
              "3                   True  ...                           False   \n",
              "4                   True  ...                           False   \n",
              "5                   True  ...                           False   \n",
              "6                   True  ...                           False   \n",
              "\n",
              "   relationship_mod_Other-relative  relationship_mod_Own-child  \\\n",
              "1                            False                       False   \n",
              "3                            False                       False   \n",
              "4                            False                        True   \n",
              "5                            False                       False   \n",
              "6                            False                       False   \n",
              "\n",
              "   relationship_mod_Unmarried  relationship_mod_Wife  sex_mod_Female  \\\n",
              "1                       False                  False            True   \n",
              "3                        True                  False            True   \n",
              "4                       False                  False            True   \n",
              "5                        True                  False            True   \n",
              "6                        True                  False           False   \n",
              "\n",
              "   sex_mod_Male  native.country_mod_Mexico  native.country_mod_Other  \\\n",
              "1         False                      False                     False   \n",
              "3         False                      False                     False   \n",
              "4         False                      False                     False   \n",
              "5         False                      False                     False   \n",
              "6          True                      False                     False   \n",
              "\n",
              "   native.country_mod_United-States  \n",
              "1                              True  \n",
              "3                              True  \n",
              "4                              True  \n",
              "5                              True  \n",
              "6                              True  \n",
              "\n",
              "[5 rows x 44 columns]"
            ],
            "text/html": [
              "\n",
              "  <div id=\"df-06ff422f-bb47-4f88-b18f-4a089599bf1e\" class=\"colab-df-container\">\n",
              "    <div>\n",
              "<style scoped>\n",
              "    .dataframe tbody tr th:only-of-type {\n",
              "        vertical-align: middle;\n",
              "    }\n",
              "\n",
              "    .dataframe tbody tr th {\n",
              "        vertical-align: top;\n",
              "    }\n",
              "\n",
              "    .dataframe thead th {\n",
              "        text-align: right;\n",
              "    }\n",
              "</style>\n",
              "<table border=\"1\" class=\"dataframe\">\n",
              "  <thead>\n",
              "    <tr style=\"text-align: right;\">\n",
              "      <th></th>\n",
              "      <th>age</th>\n",
              "      <th>education.num</th>\n",
              "      <th>capital.gain</th>\n",
              "      <th>capital.loss</th>\n",
              "      <th>hours.per.week</th>\n",
              "      <th>income</th>\n",
              "      <th>workclass_mod_Federal-gov</th>\n",
              "      <th>workclass_mod_Local-gov</th>\n",
              "      <th>workclass_mod_Other</th>\n",
              "      <th>workclass_mod_Private</th>\n",
              "      <th>...</th>\n",
              "      <th>relationship_mod_Not-in-family</th>\n",
              "      <th>relationship_mod_Other-relative</th>\n",
              "      <th>relationship_mod_Own-child</th>\n",
              "      <th>relationship_mod_Unmarried</th>\n",
              "      <th>relationship_mod_Wife</th>\n",
              "      <th>sex_mod_Female</th>\n",
              "      <th>sex_mod_Male</th>\n",
              "      <th>native.country_mod_Mexico</th>\n",
              "      <th>native.country_mod_Other</th>\n",
              "      <th>native.country_mod_United-States</th>\n",
              "    </tr>\n",
              "  </thead>\n",
              "  <tbody>\n",
              "    <tr>\n",
              "      <th>1</th>\n",
              "      <td>82</td>\n",
              "      <td>9</td>\n",
              "      <td>0</td>\n",
              "      <td>4356</td>\n",
              "      <td>18</td>\n",
              "      <td>0</td>\n",
              "      <td>False</td>\n",
              "      <td>False</td>\n",
              "      <td>False</td>\n",
              "      <td>True</td>\n",
              "      <td>...</td>\n",
              "      <td>True</td>\n",
              "      <td>False</td>\n",
              "      <td>False</td>\n",
              "      <td>False</td>\n",
              "      <td>False</td>\n",
              "      <td>True</td>\n",
              "      <td>False</td>\n",
              "      <td>False</td>\n",
              "      <td>False</td>\n",
              "      <td>True</td>\n",
              "    </tr>\n",
              "    <tr>\n",
              "      <th>3</th>\n",
              "      <td>54</td>\n",
              "      <td>4</td>\n",
              "      <td>0</td>\n",
              "      <td>3900</td>\n",
              "      <td>40</td>\n",
              "      <td>0</td>\n",
              "      <td>False</td>\n",
              "      <td>False</td>\n",
              "      <td>False</td>\n",
              "      <td>True</td>\n",
              "      <td>...</td>\n",
              "      <td>False</td>\n",
              "      <td>False</td>\n",
              "      <td>False</td>\n",
              "      <td>True</td>\n",
              "      <td>False</td>\n",
              "      <td>True</td>\n",
              "      <td>False</td>\n",
              "      <td>False</td>\n",
              "      <td>False</td>\n",
              "      <td>True</td>\n",
              "    </tr>\n",
              "    <tr>\n",
              "      <th>4</th>\n",
              "      <td>41</td>\n",
              "      <td>10</td>\n",
              "      <td>0</td>\n",
              "      <td>3900</td>\n",
              "      <td>40</td>\n",
              "      <td>0</td>\n",
              "      <td>False</td>\n",
              "      <td>False</td>\n",
              "      <td>False</td>\n",
              "      <td>True</td>\n",
              "      <td>...</td>\n",
              "      <td>False</td>\n",
              "      <td>False</td>\n",
              "      <td>True</td>\n",
              "      <td>False</td>\n",
              "      <td>False</td>\n",
              "      <td>True</td>\n",
              "      <td>False</td>\n",
              "      <td>False</td>\n",
              "      <td>False</td>\n",
              "      <td>True</td>\n",
              "    </tr>\n",
              "    <tr>\n",
              "      <th>5</th>\n",
              "      <td>34</td>\n",
              "      <td>9</td>\n",
              "      <td>0</td>\n",
              "      <td>3770</td>\n",
              "      <td>45</td>\n",
              "      <td>0</td>\n",
              "      <td>False</td>\n",
              "      <td>False</td>\n",
              "      <td>False</td>\n",
              "      <td>True</td>\n",
              "      <td>...</td>\n",
              "      <td>False</td>\n",
              "      <td>False</td>\n",
              "      <td>False</td>\n",
              "      <td>True</td>\n",
              "      <td>False</td>\n",
              "      <td>True</td>\n",
              "      <td>False</td>\n",
              "      <td>False</td>\n",
              "      <td>False</td>\n",
              "      <td>True</td>\n",
              "    </tr>\n",
              "    <tr>\n",
              "      <th>6</th>\n",
              "      <td>38</td>\n",
              "      <td>6</td>\n",
              "      <td>0</td>\n",
              "      <td>3770</td>\n",
              "      <td>40</td>\n",
              "      <td>0</td>\n",
              "      <td>False</td>\n",
              "      <td>False</td>\n",
              "      <td>False</td>\n",
              "      <td>True</td>\n",
              "      <td>...</td>\n",
              "      <td>False</td>\n",
              "      <td>False</td>\n",
              "      <td>False</td>\n",
              "      <td>True</td>\n",
              "      <td>False</td>\n",
              "      <td>False</td>\n",
              "      <td>True</td>\n",
              "      <td>False</td>\n",
              "      <td>False</td>\n",
              "      <td>True</td>\n",
              "    </tr>\n",
              "  </tbody>\n",
              "</table>\n",
              "<p>5 rows × 44 columns</p>\n",
              "</div>\n",
              "    <div class=\"colab-df-buttons\">\n",
              "\n",
              "  <div class=\"colab-df-container\">\n",
              "    <button class=\"colab-df-convert\" onclick=\"convertToInteractive('df-06ff422f-bb47-4f88-b18f-4a089599bf1e')\"\n",
              "            title=\"Convert this dataframe to an interactive table.\"\n",
              "            style=\"display:none;\">\n",
              "\n",
              "  <svg xmlns=\"http://www.w3.org/2000/svg\" height=\"24px\" viewBox=\"0 -960 960 960\">\n",
              "    <path d=\"M120-120v-720h720v720H120Zm60-500h600v-160H180v160Zm220 220h160v-160H400v160Zm0 220h160v-160H400v160ZM180-400h160v-160H180v160Zm440 0h160v-160H620v160ZM180-180h160v-160H180v160Zm440 0h160v-160H620v160Z\"/>\n",
              "  </svg>\n",
              "    </button>\n",
              "\n",
              "  <style>\n",
              "    .colab-df-container {\n",
              "      display:flex;\n",
              "      gap: 12px;\n",
              "    }\n",
              "\n",
              "    .colab-df-convert {\n",
              "      background-color: #E8F0FE;\n",
              "      border: none;\n",
              "      border-radius: 50%;\n",
              "      cursor: pointer;\n",
              "      display: none;\n",
              "      fill: #1967D2;\n",
              "      height: 32px;\n",
              "      padding: 0 0 0 0;\n",
              "      width: 32px;\n",
              "    }\n",
              "\n",
              "    .colab-df-convert:hover {\n",
              "      background-color: #E2EBFA;\n",
              "      box-shadow: 0px 1px 2px rgba(60, 64, 67, 0.3), 0px 1px 3px 1px rgba(60, 64, 67, 0.15);\n",
              "      fill: #174EA6;\n",
              "    }\n",
              "\n",
              "    .colab-df-buttons div {\n",
              "      margin-bottom: 4px;\n",
              "    }\n",
              "\n",
              "    [theme=dark] .colab-df-convert {\n",
              "      background-color: #3B4455;\n",
              "      fill: #D2E3FC;\n",
              "    }\n",
              "\n",
              "    [theme=dark] .colab-df-convert:hover {\n",
              "      background-color: #434B5C;\n",
              "      box-shadow: 0px 1px 3px 1px rgba(0, 0, 0, 0.15);\n",
              "      filter: drop-shadow(0px 1px 2px rgba(0, 0, 0, 0.3));\n",
              "      fill: #FFFFFF;\n",
              "    }\n",
              "  </style>\n",
              "\n",
              "    <script>\n",
              "      const buttonEl =\n",
              "        document.querySelector('#df-06ff422f-bb47-4f88-b18f-4a089599bf1e button.colab-df-convert');\n",
              "      buttonEl.style.display =\n",
              "        google.colab.kernel.accessAllowed ? 'block' : 'none';\n",
              "\n",
              "      async function convertToInteractive(key) {\n",
              "        const element = document.querySelector('#df-06ff422f-bb47-4f88-b18f-4a089599bf1e');\n",
              "        const dataTable =\n",
              "          await google.colab.kernel.invokeFunction('convertToInteractive',\n",
              "                                                    [key], {});\n",
              "        if (!dataTable) return;\n",
              "\n",
              "        const docLinkHtml = 'Like what you see? Visit the ' +\n",
              "          '<a target=\"_blank\" href=https://colab.research.google.com/notebooks/data_table.ipynb>data table notebook</a>'\n",
              "          + ' to learn more about interactive tables.';\n",
              "        element.innerHTML = '';\n",
              "        dataTable['output_type'] = 'display_data';\n",
              "        await google.colab.output.renderOutput(dataTable, element);\n",
              "        const docLink = document.createElement('div');\n",
              "        docLink.innerHTML = docLinkHtml;\n",
              "        element.appendChild(docLink);\n",
              "      }\n",
              "    </script>\n",
              "  </div>\n",
              "\n",
              "\n",
              "    <div id=\"df-ca0c6554-9ec1-4a0a-810b-c992d92f6579\">\n",
              "      <button class=\"colab-df-quickchart\" onclick=\"quickchart('df-ca0c6554-9ec1-4a0a-810b-c992d92f6579')\"\n",
              "                title=\"Suggest charts\"\n",
              "                style=\"display:none;\">\n",
              "\n",
              "<svg xmlns=\"http://www.w3.org/2000/svg\" height=\"24px\"viewBox=\"0 0 24 24\"\n",
              "     width=\"24px\">\n",
              "    <g>\n",
              "        <path d=\"M19 3H5c-1.1 0-2 .9-2 2v14c0 1.1.9 2 2 2h14c1.1 0 2-.9 2-2V5c0-1.1-.9-2-2-2zM9 17H7v-7h2v7zm4 0h-2V7h2v10zm4 0h-2v-4h2v4z\"/>\n",
              "    </g>\n",
              "</svg>\n",
              "      </button>\n",
              "\n",
              "<style>\n",
              "  .colab-df-quickchart {\n",
              "      --bg-color: #E8F0FE;\n",
              "      --fill-color: #1967D2;\n",
              "      --hover-bg-color: #E2EBFA;\n",
              "      --hover-fill-color: #174EA6;\n",
              "      --disabled-fill-color: #AAA;\n",
              "      --disabled-bg-color: #DDD;\n",
              "  }\n",
              "\n",
              "  [theme=dark] .colab-df-quickchart {\n",
              "      --bg-color: #3B4455;\n",
              "      --fill-color: #D2E3FC;\n",
              "      --hover-bg-color: #434B5C;\n",
              "      --hover-fill-color: #FFFFFF;\n",
              "      --disabled-bg-color: #3B4455;\n",
              "      --disabled-fill-color: #666;\n",
              "  }\n",
              "\n",
              "  .colab-df-quickchart {\n",
              "    background-color: var(--bg-color);\n",
              "    border: none;\n",
              "    border-radius: 50%;\n",
              "    cursor: pointer;\n",
              "    display: none;\n",
              "    fill: var(--fill-color);\n",
              "    height: 32px;\n",
              "    padding: 0;\n",
              "    width: 32px;\n",
              "  }\n",
              "\n",
              "  .colab-df-quickchart:hover {\n",
              "    background-color: var(--hover-bg-color);\n",
              "    box-shadow: 0 1px 2px rgba(60, 64, 67, 0.3), 0 1px 3px 1px rgba(60, 64, 67, 0.15);\n",
              "    fill: var(--button-hover-fill-color);\n",
              "  }\n",
              "\n",
              "  .colab-df-quickchart-complete:disabled,\n",
              "  .colab-df-quickchart-complete:disabled:hover {\n",
              "    background-color: var(--disabled-bg-color);\n",
              "    fill: var(--disabled-fill-color);\n",
              "    box-shadow: none;\n",
              "  }\n",
              "\n",
              "  .colab-df-spinner {\n",
              "    border: 2px solid var(--fill-color);\n",
              "    border-color: transparent;\n",
              "    border-bottom-color: var(--fill-color);\n",
              "    animation:\n",
              "      spin 1s steps(1) infinite;\n",
              "  }\n",
              "\n",
              "  @keyframes spin {\n",
              "    0% {\n",
              "      border-color: transparent;\n",
              "      border-bottom-color: var(--fill-color);\n",
              "      border-left-color: var(--fill-color);\n",
              "    }\n",
              "    20% {\n",
              "      border-color: transparent;\n",
              "      border-left-color: var(--fill-color);\n",
              "      border-top-color: var(--fill-color);\n",
              "    }\n",
              "    30% {\n",
              "      border-color: transparent;\n",
              "      border-left-color: var(--fill-color);\n",
              "      border-top-color: var(--fill-color);\n",
              "      border-right-color: var(--fill-color);\n",
              "    }\n",
              "    40% {\n",
              "      border-color: transparent;\n",
              "      border-right-color: var(--fill-color);\n",
              "      border-top-color: var(--fill-color);\n",
              "    }\n",
              "    60% {\n",
              "      border-color: transparent;\n",
              "      border-right-color: var(--fill-color);\n",
              "    }\n",
              "    80% {\n",
              "      border-color: transparent;\n",
              "      border-right-color: var(--fill-color);\n",
              "      border-bottom-color: var(--fill-color);\n",
              "    }\n",
              "    90% {\n",
              "      border-color: transparent;\n",
              "      border-bottom-color: var(--fill-color);\n",
              "    }\n",
              "  }\n",
              "</style>\n",
              "\n",
              "      <script>\n",
              "        async function quickchart(key) {\n",
              "          const quickchartButtonEl =\n",
              "            document.querySelector('#' + key + ' button');\n",
              "          quickchartButtonEl.disabled = true;  // To prevent multiple clicks.\n",
              "          quickchartButtonEl.classList.add('colab-df-spinner');\n",
              "          try {\n",
              "            const charts = await google.colab.kernel.invokeFunction(\n",
              "                'suggestCharts', [key], {});\n",
              "          } catch (error) {\n",
              "            console.error('Error during call to suggestCharts:', error);\n",
              "          }\n",
              "          quickchartButtonEl.classList.remove('colab-df-spinner');\n",
              "          quickchartButtonEl.classList.add('colab-df-quickchart-complete');\n",
              "        }\n",
              "        (() => {\n",
              "          let quickchartButtonEl =\n",
              "            document.querySelector('#df-ca0c6554-9ec1-4a0a-810b-c992d92f6579 button');\n",
              "          quickchartButtonEl.style.display =\n",
              "            google.colab.kernel.accessAllowed ? 'block' : 'none';\n",
              "        })();\n",
              "      </script>\n",
              "    </div>\n",
              "\n",
              "    </div>\n",
              "  </div>\n"
            ],
            "application/vnd.google.colaboratory.intrinsic+json": {
              "type": "dataframe",
              "variable_name": "aci"
            }
          },
          "metadata": {},
          "execution_count": 94
        }
      ]
    },
    {
      "cell_type": "markdown",
      "source": [
        "### Kesimpulan"
      ],
      "metadata": {
        "id": "SciRI2Aa3CHC"
      }
    },
    {
      "cell_type": "markdown",
      "source": [
        "Dapat dilihat pada tabel bahwa setelah data dibersihkan jumlah data menjadi 30139 data dan 44 kolom (43 fitur dan 1 label income) yang  selanjutnya akan dilakukan PCA agar dapat mereduksi dan meningkatkan model belajar dengan baik"
      ],
      "metadata": {
        "id": "t68Wd_4z3ENp"
      }
    },
    {
      "cell_type": "markdown",
      "source": [
        "## Modeling"
      ],
      "metadata": {
        "id": "aKboaHtx4WNv"
      }
    },
    {
      "cell_type": "code",
      "source": [
        "X = aci.drop('income', axis=1)  # fitur-fitur(tanpa kolom target)"
      ],
      "metadata": {
        "id": "pphpz_JT3Pcf"
      },
      "execution_count": null,
      "outputs": []
    },
    {
      "cell_type": "code",
      "source": [
        "# Standardisasi fitur agar memiliki mean=0 dan variance=1\n",
        "# agar algoritma klaster dan PCA  tidak bias terhadap skala fitur\n",
        "X_scaled = StandardScaler().fit_transform(X)\n",
        "\n",
        "# melakukan PCA untuk mereduksi fitur menjadi 2 komponen utama agar mudah divisualisasikan\n",
        "pca = PCA(n_components=2)\n",
        "X_pca = pca.fit_transform(X_scaled)\n",
        "\n",
        "# menerapkan KMeans clustering untuk membagi data menjadi 2 cluster\n",
        "kmeans = KMeans(n_clusters=2, random_state=42)\n",
        "clusters = kmeans.fit_predict(X_scaled)\n",
        "\n",
        "# Visualisasikan hasil PCA dan klaster KMeans\n",
        "plt.figure(figsize=(8,6))\n",
        "plt.scatter(X_pca[:, 0], X_pca[:, 1], c=clusters, cmap='viridis', s=10)  # Titik diberi warna sesuai cluster\n",
        "plt.title(\"KMeans Clustering on Adult Dataset\")\n",
        "plt.xlabel(\"PCA 1\")  # Komponen PCA pertama\n",
        "plt.ylabel(\"PCA 2\")  # Komponen PCA kedua\n",
        "plt.colorbar(label='Cluster')  # Tambahkan legenda warna cluster\n",
        "plt.show()"
      ],
      "metadata": {
        "id": "9X8x1bTg8tq7",
        "colab": {
          "base_uri": "https://localhost:8080/",
          "height": 564
        },
        "outputId": "03e6ecd3-98a7-401b-b19f-389e934605cd"
      },
      "execution_count": null,
      "outputs": [
        {
          "output_type": "display_data",
          "data": {
            "text/plain": [
              "<Figure size 800x600 with 2 Axes>"
            ],
            "image/png": "[encoded data removed]"
          },
          "metadata": {}
        }
      ]
    },
    {
      "cell_type": "code",
      "source": [
        "# melihat bobot bobot fitur dari komponen PCA\n",
        "components = pd.DataFrame(\n",
        "    np.round(pca.components_, 3),  # angka dibulatkan 3\n",
        "    columns=X.columns,             # nama fitur\n",
        "    index=['PCA1', 'PCA2']         # nama sumbu\n",
        ")\n",
        "\n",
        "# Tampilkan komponen (bobot kontribusi tiap fitur)\n",
        "print(components.T.sort_values(by='PCA1', ascending=False))  # urutkan berdasarkan pengaruh terhadap PCA1"
      ],
      "metadata": {
        "id": "dTHowK1ps69S",
        "collapsed": true,
        "colab": {
          "base_uri": "https://localhost:8080/"
        },
        "outputId": "0fc9ff2e-f873-4913-83f2-38a394035273"
      },
      "execution_count": null,
      "outputs": [
        {
          "output_type": "stream",
          "name": "stdout",
          "text": [
            "                                           PCA1   PCA2\n",
            "relationship_mod_Husband                  0.433  0.041\n",
            "marital.status_mod_Married-civ-spouse     0.413 -0.023\n",
            "sex_mod_Male                              0.352  0.264\n",
            "hours.per.week                            0.185 -0.083\n",
            "age                                       0.185 -0.304\n",
            "workclass_mod_Self-emp-not-inc            0.112 -0.098\n",
            "occupation_mod_Craft-repair               0.106  0.132\n",
            "workclass_mod_Self-emp-inc                0.094 -0.096\n",
            "occupation_mod_Exec-managerial            0.077 -0.131\n",
            "education.num                             0.064 -0.262\n",
            "capital.gain                              0.063 -0.075\n",
            "occupation_mod_Transport-moving           0.062  0.065\n",
            "occupation_mod_Farming-fishing            0.057  0.030\n",
            "capital.loss                              0.056 -0.051\n",
            "occupation_mod_Protective-serv            0.036 -0.045\n",
            "occupation_mod_Prof-specialty             0.029 -0.209\n",
            "workclass_mod_Local-gov                   0.015 -0.192\n",
            "workclass_mod_Federal-gov                 0.013 -0.114\n",
            "native.country_mod_United-States          0.013 -0.148\n",
            "workclass_mod_State-gov                   0.001 -0.129\n",
            "workclass_mod_Other                       0.001 -0.004\n",
            "occupation_mod_Machine-op-inspct         -0.002  0.101\n",
            "marital.status_mod_Other                 -0.004 -0.010\n",
            "native.country_mod_Mexico                -0.006  0.156\n",
            "occupation_mod_Sales                     -0.008  0.040\n",
            "native.country_mod_Other                 -0.012  0.080\n",
            "occupation_mod_Tech-support              -0.012 -0.009\n",
            "occupation_mod_Handlers-cleaners         -0.021  0.170\n",
            "relationship_mod_Wife                    -0.034 -0.165\n",
            "marital.status_mod_Married-spouse-absent -0.035  0.002\n",
            "occupation_mod_Other                     -0.044  0.002\n",
            "relationship_mod_Other-relative          -0.057  0.092\n",
            "marital.status_mod_Separated             -0.067 -0.048\n",
            "marital.status_mod_Widowed               -0.070 -0.144\n",
            "workclass_mod_Private                    -0.125  0.318\n",
            "marital.status_mod_Divorced              -0.134 -0.231\n",
            "occupation_mod_Other-service             -0.134  0.073\n",
            "occupation_mod_Adm-clerical              -0.143 -0.112\n",
            "relationship_mod_Unmarried               -0.155 -0.197\n",
            "relationship_mod_Own-child               -0.187  0.268\n",
            "relationship_mod_Not-in-family           -0.189 -0.081\n",
            "marital.status_mod_Never-married         -0.284  0.264\n",
            "sex_mod_Female                           -0.352 -0.264\n"
          ]
        }
      ]
    },
    {
      "cell_type": "markdown",
      "source": [
        "### Kesimpulan"
      ],
      "metadata": {
        "id": "NqDZdJaFuSj2"
      }
    },
    {
      "cell_type": "markdown",
      "source": [
        "Melalui pendekatan unsupervised learning dengan KMeans Clustering dan Principal Component Analysis (PCA), proyek ini berhasil mengidentifikasi dua kelompok utama dalam data tanpa menggunakan label penghasilan.\n",
        "\n",
        "Hasil visualisasi dan bobot fitur menunjukkan bahwa data dapat dipisahkan secara jelas ke dalam dua cluster yang berbeda dimana PCA 1 memisahkan antara pria menikah yang bekerja banyak jam (nilai PCA 1 tinggi/positif)\n",
        "vs perempuan, belum menikah, dan anak-anak dalam keluarga (nilai PCA 1 rendah/negatif). dan PCA 2 memisahkan antara Orang dewasa, pekerjaan lebih baik/terdidik, usia lebih tua (PCA 2 rendah/negatif) vs lajang, muda, pekerjaan kasar, anak sendiri (PCA 2 tinggi/positif)\n",
        "\n",
        "Sehingga, clustering KMeans kemungkinan memisahkan antara kelompok dewasa menikah, bekerja penuh, berpenghasilan tinggi(**Warna Kuning**) vs Kelompok lebih muda, belum menikah atau anak tanggungan, dengan pekerjaan/jam kerja lebih rendah(**Warna Ungu**). Hal ini mengindikasikan adanya struktur alami dalam data yang mencerminkan perbedaan karakteristik sosial-ekonomi antar individu."
      ],
      "metadata": {
        "id": "t_D20PQpGsVh"
      }
    },
    {
      "cell_type": "markdown",
      "source": [
        "# *Supervised Learning*"
      ],
      "metadata": {
        "id": "omCIJD4ry-Zi"
      }
    },
    {
      "cell_type": "markdown",
      "source": [
        "## Load & Eksplorasi Data"
      ],
      "metadata": {
        "id": "MTcE4Sx4q-f6"
      }
    },
    {
      "cell_type": "markdown",
      "source": [
        "## Preprocessing"
      ],
      "metadata": {
        "id": "AzOo4COez7Z0"
      }
    },
    {
      "cell_type": "markdown",
      "source": [
        "### Kesimpulan"
      ],
      "metadata": {
        "id": "ubMV8CkMGpGQ"
      }
    },
    {
      "cell_type": "markdown",
      "source": [
        "Karena Datasetnya masih sama, maka tidak perlu load,eksplorasi,dan preprocessing"
      ],
      "metadata": {
        "id": "ZkaNZvJz5Ce8"
      }
    },
    {
      "cell_type": "markdown",
      "source": [
        "### Feature Engineering"
      ],
      "metadata": {
        "id": "AIt0BkIBGx6F"
      }
    },
    {
      "cell_type": "code",
      "source": [
        "# untuk kolom x sudah di definisikan sebelumnya pada K-means clustering\n",
        "y = aci['income']  # Label (kolom target)\n",
        "\n",
        "\n",
        "# Membagi Data Menjadi Train dan Test\n",
        "# stratify digunakan untuk memastikan proporsi kelas tetap seimbang di test dan train\n",
        "X_train, X_test, y_train, y_test = train_test_split(X_scaled, y, test_size=0.3, stratify=y, random_state=42)\n",
        "\n",
        "# melakukan smote untuk membuat data sintetis pada kelas minoritas, agar data seimbang\n",
        "smote = SMOTE(random_state=42)\n",
        "X_train_res, y_train_res = smote.fit_resample(X_train, y_train)\n",
        "\n",
        "'''\n",
        "  neg, pos = np.bincount(y_train)\n",
        "  scale_pos_weight = neg / pos'''"
      ],
      "metadata": {
        "id": "MdGeEkiEkMAT",
        "colab": {
          "base_uri": "https://localhost:8080/",
          "height": 36
        },
        "outputId": "286c898c-2b05-4a1e-8dd4-686a5302ce64"
      },
      "execution_count": null,
      "outputs": [
        {
          "output_type": "execute_result",
          "data": {
            "text/plain": [
              "'\\n  neg, pos = np.bincount(y_train)\\n  scale_pos_weight = neg / pos'"
            ],
            "application/vnd.google.colaboratory.intrinsic+json": {
              "type": "string"
            }
          },
          "metadata": {},
          "execution_count": 98
        }
      ]
    },
    {
      "cell_type": "markdown",
      "metadata": {
        "id": "nR6oSek2Y_fv"
      },
      "source": [
        "## Modeling"
      ]
    },
    {
      "cell_type": "code",
      "source": [
        "# Melakukan tuning hyperparameter agar mendapat hasil model yang baik\n",
        "# Parameter grid/ daftar nilai hyparam yg mau diuji\n",
        "param_grid = {\n",
        "    'n_estimators': [300, 500],         # Jumlah pohon\n",
        "    'max_depth': [5, 7, 9],             # Kedalaman maksimal tiap pohon\n",
        "    'learning_rate': [0.03, 0.05, 0.1], # besar langkah tiap update bobot\n",
        "    'subsample': [0.8, 1.0],            # Persentase data yang dipakai untuk tiap pohon\n",
        "    'colsample_bytree': [0.8, 1.0],     # Persentase fitur (kolom) yang dipakai untuk tiap pohon\n",
        "    'gamma': [0, 0.1],                  # Minimum pengurangan loss agar cabang dibuat(jika tinggi, model tdk mudah split)\n",
        "    'reg_alpha': [0, 0.1],              # Membantu mengurangi overfitting dengan \"menghukum\" bobot besar\n",
        "    'reg_lambda': [1, 1.5],             # sama dengan reg_alpha tetapi dengan cara kerja yang berbeda\n",
        "    'min_child_weight': [1, 3],         # Minimum jumlah data di anak node(jika tinggi, pohon di model tdk mudah split)\n",
        "}"
      ],
      "metadata": {
        "id": "G59fv-Y98is6"
      },
      "execution_count": null,
      "outputs": []
    },
    {
      "cell_type": "code",
      "source": [
        "#  Membuat model XGBoost, menonaktifkan label encoder default dan memilih metric evaluasi logloss\n",
        "model = XGBClassifier(use_label_encoder=False, eval_metric='logloss',tree_method='hist',random_state=42) # Membuat model XGboost Classifier dari library yang sudah diimpor sebelumnya dengan random state agar hasil konsisten\n",
        "\n",
        "# Melakukan GridSearchCV untuk mencari dan memilih parameter terbaik(tuning)\n",
        "random_search = RandomizedSearchCV(\n",
        "    estimator=model,                # Model XGBoost\n",
        "    param_distributions=param_grid, # daftar kombinasi parameter yang didefinisikan sblmnya\n",
        "    n_iter=100,                     # Mencoba 100 kombinasi secara acak\n",
        "    scoring='precision',            # Pilih model dengan precision terbaik\n",
        "    cv=3,                           # Cross-validation 3 dengan  lipatan\n",
        "    verbose=2,                      # Tampilkan progress\n",
        "    random_state=42,                # agar bisa direproduksi\n",
        "    n_jobs=-1                       # Menggunakan semua core CPU agar proses lebih cepat\n",
        ")\n",
        "\n",
        "\n",
        "# Melatih model dengan data training\n",
        "random_search.fit(X_train_res, y_train_res)\n",
        "\n",
        "# menyimpan model dengan kombinasi parameter terbaik dari hasil tuning\n",
        "best_model = random_search.best_estimator_"
      ],
      "metadata": {
        "id": "ANV4B3Xx4_28",
        "colab": {
          "base_uri": "https://localhost:8080/"
        },
        "outputId": "d48c093c-098b-45b8-9133-b586e6d4318e"
      },
      "execution_count": null,
      "outputs": [
        {
          "output_type": "stream",
          "name": "stdout",
          "text": [
            "Fitting 3 folds for each of 100 candidates, totalling 300 fits\n"
          ]
        },
        {
          "output_type": "stream",
          "name": "stderr",
          "text": [
            "/usr/local/lib/python3.11/dist-packages/xgboost/core.py:158: UserWarning: [14:31:51] WARNING: /workspace/src/learner.cc:740: \n",
            "Parameters: { \"use_label_encoder\" } are not used.\n",
            "\n",
            "  warnings.warn(smsg, UserWarning)\n"
          ]
        }
      ]
    },
    {
      "cell_type": "code",
      "source": [
        "''' Inisialisasi threshold awal\n",
        "best_thresh = 0.5\n",
        "best_f1 = 0\n",
        "for t in np.arange(0.3, 0.7, 0.01):\n",
        "    y_pred_t = (proba >= t).astype(int)\n",
        "    f1 = f1_score(y_test, y_pred_t)\n",
        "    if f1 > best_f1:\n",
        "        best_f1 = f1\n",
        "        best_thresh = t\n",
        "\n",
        "print(f\"Best Threshold by F1: {best_thresh:.2f}\")'''"
      ],
      "metadata": {
        "colab": {
          "base_uri": "https://localhost:8080/",
          "height": 53
        },
        "id": "mRM_e4VplTLU",
        "outputId": "f1fd124e-9537-4e8a-c44e-a5a867fcad94"
      },
      "execution_count": null,
      "outputs": [
        {
          "output_type": "execute_result",
          "data": {
            "text/plain": [
              "' Inisialisasi threshold awal\\nbest_thresh = 0.5\\nbest_f1 = 0\\nfor t in np.arange(0.3, 0.7, 0.01):\\n    y_pred_t = (proba >= t).astype(int)\\n    f1 = f1_score(y_test, y_pred_t)\\n    if f1 > best_f1:\\n        best_f1 = f1\\n        best_thresh = t\\n\\nprint(f\"Best Threshold by F1: {best_thresh:.2f}\")'"
            ],
            "application/vnd.google.colaboratory.intrinsic+json": {
              "type": "string"
            }
          },
          "metadata": {},
          "execution_count": 101
        }
      ]
    },
    {
      "cell_type": "code",
      "source": [
        "# Prediksi probabilitas pada setiap data di X_test yang termasuk ke dalam kelas 1 (positif)\n",
        "proba = best_model.predict_proba(X_test)[:, 1]\n",
        "\n",
        "# Threshold tuning(menggunakan nilai threshold sesuai dengan hasil kode di atas)\n",
        "y_pred_final = (proba >= 0.57).astype(int)\n",
        "\n",
        "# Evaluasi\n",
        "print(f\"Accuracy: {accuracy_score(y_test, y_pred_final):.2f}\")\n",
        "print(\"Classification Report:\\n\", classification_report(y_test, y_pred_final))"
      ],
      "metadata": {
        "id": "b3Z6TXbmhoN8",
        "colab": {
          "base_uri": "https://localhost:8080/"
        },
        "outputId": "21ba555a-2c08-453b-e37d-ab9c692d3e9f"
      },
      "execution_count": null,
      "outputs": [
        {
          "output_type": "stream",
          "name": "stdout",
          "text": [
            "Accuracy: 0.86\n",
            "Classification Report:\n",
            "               precision    recall  f1-score   support\n",
            "\n",
            "           0       0.89      0.93      0.91      6790\n",
            "           1       0.75      0.67      0.71      2252\n",
            "\n",
            "    accuracy                           0.86      9042\n",
            "   macro avg       0.82      0.80      0.81      9042\n",
            "weighted avg       0.86      0.86      0.86      9042\n",
            "\n"
          ]
        }
      ]
    },
    {
      "cell_type": "code",
      "source": [
        "# mengukur kemampuan model membedakan kelas 0 dan 1 (Area Under Curve)\n",
        "print(\"AUC Score:\", roc_auc_score(y_test, proba))\n",
        "\n",
        "# membuat dan menampilkan kurva Receiver Operating Characteristic (ROC) dari model terbaik ke grafik.\n",
        "RocCurveDisplay.from_estimator(best_model, X_test, y_test)\n",
        "\n",
        "# grafik menunjukkan bahwa nilai AUC  : 0.92(model baik dalam membedakannya)\n",
        "plt.show()"
      ],
      "metadata": {
        "id": "oeYeC2UVfPSc",
        "colab": {
          "base_uri": "https://localhost:8080/",
          "height": 468
        },
        "outputId": "83da6441-21e3-44c5-86cf-3efa486c106d"
      },
      "execution_count": null,
      "outputs": [
        {
          "output_type": "stream",
          "name": "stdout",
          "text": [
            "AUC Score: 0.9222832527198864\n"
          ]
        },
        {
          "output_type": "display_data",
          "data": {
            "text/plain": [
              "<Figure size 640x480 with 1 Axes>"
            ],
            "image/png": "[encoded data removed]"
          },
          "metadata": {}
        }
      ]
    },
    {
      "cell_type": "markdown",
      "metadata": {
        "id": "o0qrVHCcZAc3"
      },
      "source": [
        "### Kesimpulan"
      ]
    },
    {
      "cell_type": "markdown",
      "source": [
        "Berdasarkan hasil evaluasi model dan pada gambar tersebut, diperoleh nilai akurasi sebesar 86%, yang menunjukkan bahwa model mampu mengklasifikasikan data dengan tingkat ketepatan yang cukup tinggi secara keseluruhan. Pada kelas mayoritas (label 0).\n",
        "\n",
        "Sementara itu, untuk kelas minoritas (label 1), Meskipun precision cukup tinggi, recall yang lebih rendah menunjukkan bahwa masih terdapat sebagian data kelas 1 yang tidak berhasil dikenali oleh model.\n",
        "\n",
        "Selain itu, nilai AUC (Area Under Curve) sebesar 0.92 menunjukkan bahwa model memiliki kemampuan diskriminatif yang sangat baik dalam membedakan antara kedua kelas"
      ],
      "metadata": {
        "id": "Xo2a85Ce52xk"
      }
    },
    {
      "cell_type": "markdown",
      "source": [
        "# Interpretasi & Insights"
      ],
      "metadata": {
        "id": "kyLamIR8elnu"
      }
    },
    {
      "cell_type": "markdown",
      "source": [
        "karakteristik pada dataset kali ini memiliki ketidakseimbangan kelas, di mana sebagian besar sampel berasal dari kelas penghasilan di bawah $50K (label 0). Hal ini juga diperkuat oleh hasil visualisasi menggunakan algoritma K-Means, yang menunjukkan dominasi klaster berwarna ungu yang merepresentasikan kelas tersebut.  Ketimpangan distribusi ini dapat menyebabkan model supervised learning cenderung bias terhadap kelas mayoritas dan mengabaikan kelas minoritas. sehingga diterapkan teknik SMOTE (Synthetic Minority Over-sampling Technique) pada data pelatihan agar model dapat lebih adil dalam mempelajari pola dari kedua kelas.\n",
        "\n",
        "Model ini dioptimasi melalui proses tuning hyperparameter menggunakan metode RandomizedSearchCV yang dilakukan dengan mempertimbangkan berbagai kombinasi parameter penting, seperti jumlah pohon, kedalaman pohon, learning rate, dan parameter regularisasi, dengan tujuan untuk memaksimalkan nilai precision. Setelah diperoleh model terbaik, dilakukan penyesuaian threshold prediksi berdasarkan probabilitas, dengan menetapkan nilai ambang sebesar 0.57 sebagai batas klasifikasi akhir(sesuai percobaan hasil sebelumnya).\n",
        "\n",
        "Model hasil akhir menghasilkan akurasi sebesar 86% dan AUC sebesar 0.92, yang menunjukkan bahwa model memiliki kemampuan yang sangat baik dalam membedakan antara dua kelas tetapi masih kurang baik dalam mendeteksi kelas penghasilan tinggi akibat tumpang tindih karakteristik fitur antar kelas. karena memang sesuai dengan permasalahan sebelumnya. meskipun demikian, pencapaian ini merupakan hasil dari kombinasi strategi penyeimbangan data, optimasi parameter, serta penyesuaian threshod yang memberikan hasil yang baik dan sejalan dengan distribusi data aktual"
      ],
      "metadata": {
        "id": "CCnaNxpZemaI"
      }
    }
  ],
  "metadata": {
    "colab": {
      "provenance": [],
      "gpuType": "T4",
      "authorship_tag": "ABX9TyNwJ6CYcRyy8f4To7Aa4wk8",
      "include_colab_link": true
    },
    "kernelspec": {
      "display_name": "Python 3",
      "name": "python3"
    },
    "language_info": {
      "name": "python"
    },
    "accelerator": "GPU"
  },
  "nbformat": 4,
  "nbformat_minor": 0
}